{
 "cells": [
  {
   "cell_type": "markdown",
   "id": "b8feb40a-9f41-4f45-9205-7bc76022d361",
   "metadata": {},
   "source": [
    "# Download necessary CAMS data"
   ]
  },
  {
   "cell_type": "markdown",
   "id": "20597ffe-9b54-4095-8fda-55e1f7662cca",
   "metadata": {},
   "source": [
    "\n",
    "First, you have to register and install the CAMS api from: \n",
    "<a href=\"https://ecmwf-projects.github.io/copernicus-training-cams/da-ads-tutorial.html#access-data-programmatically-with-the-cds-api\n",
    "\">CDS api site</a>\n",
    "\n"
   ]
  },
  {
   "cell_type": "code",
   "execution_count": 1,
   "id": "191fff75-50ea-4467-bca4-8db0e7961e3a",
   "metadata": {},
   "outputs": [],
   "source": [
    "import os, sys\n",
    "\n",
    "import numpy as np\n",
    "import pandas\n",
    "from scipy.interpolate import interp1d\n",
    "import xarray as xr\n",
    "import calendar\n",
    "import matplotlib.pyplot as plt\n",
    "\n",
    "import logging\n",
    "import calendar, datetime\n",
    "import cdsapi\n",
    "\n",
    "opj = os.path.join"
   ]
  },
  {
   "cell_type": "code",
   "execution_count": null,
   "id": "4b5d0ed7-6696-4159-a1a7-a8a24332e321",
   "metadata": {},
   "outputs": [
    {
     "name": "stdout",
     "output_type": "stream",
     "text": [
      "/data/cams/world/cams_forecast_2023-10.nc\n"
     ]
    },
    {
     "name": "stderr",
     "output_type": "stream",
     "text": [
      "2024-03-11 15:45:59,988 INFO Welcome to the CDS\n",
      "2024-03-11 15:45:59,989 INFO Sending request to https://ads.atmosphere.copernicus.eu/api/v2/resources/cams-global-atmospheric-composition-forecasts\n",
      "2024-03-11 15:46:00,045 INFO Request is queued\n",
      "2024-03-11 15:46:01,085 INFO Request is running\n"
     ]
    }
   ],
   "source": [
    "odir = '/data/cams/france'\n",
    "latmax,lonmin,latmin,lonmax = 52.,-6.,41,10\n",
    "\n",
    "odir = '/data/cams/world'\n",
    "latmax,lonmin,latmin,lonmax = 90,-180,-90,180\n",
    "year=2023\n",
    "\n",
    "\n",
    "for month in range(10,13):\n",
    "    \n",
    "    date_start='{:4d}-{:02d}-{:02d}'.format(year,month,1)\n",
    "    date_end='{:4d}-{:02d}-{:02d}'.format(year,month,calendar.monthrange(year, month)[1])\n",
    "    name = '{:4d}-{:02d}'.format(year,month)\n",
    "    filepath = opj(odir,'cams_forecast_'+name+'.nc')\n",
    "    if os.path.exists(filepath):\n",
    "        continue\n",
    "    print(filepath)\n",
    "\n",
    "    type='forecast'\n",
    "    variable = [\n",
    "                '10m_u_component_of_wind', '10m_v_component_of_wind',\n",
    "                '2m_temperature',\n",
    "                'mean_sea_level_pressure', 'surface_pressure',\n",
    "                'ammonium_aerosol_optical_depth_550nm', 'black_carbon_aerosol_optical_depth_550nm',\n",
    "                'dust_aerosol_optical_depth_550nm',\n",
    "                'nitrate_aerosol_optical_depth_550nm', 'organic_matter_aerosol_optical_depth_550nm',\n",
    "                'sea_salt_aerosol_optical_depth_550nm',\n",
    "                'secondary_organic_aerosol_optical_depth_550nm', 'sulphate_aerosol_optical_depth_550nm',\n",
    "                'total_aerosol_optical_depth_1240nm',\n",
    "                'total_aerosol_optical_depth_469nm',\n",
    "                'total_aerosol_optical_depth_550nm',\n",
    "                'total_aerosol_optical_depth_670nm',\n",
    "                'total_aerosol_optical_depth_865nm',\n",
    "                'total_column_carbon_monoxide',\n",
    "                'total_column_methane',\n",
    "                'total_column_nitrogen_dioxide',\n",
    "                'total_column_ozone', 'total_column_water_vapour']\n",
    "    area = [latmax,lonmin,latmin,lonmax]\n",
    "    c = cdsapi.Client()\n",
    "    \n",
    "    c.retrieve(\n",
    "        'cams-global-atmospheric-composition-forecasts',\n",
    "        {\n",
    "            'date': date_start + '/' + date_end,\n",
    "            'type': type,\n",
    "            'format': 'netcdf'\n",
    "            ,\n",
    "            'variable': variable,\n",
    "            'time': ['00:00', '12:00'],\n",
    "            'leadtime_hour': ['0', '3', '6', '9'],\n",
    "            'area': area,\n",
    "        },\n",
    "        filepath)\n",
    "\n"
   ]
  },
  {
   "cell_type": "code",
   "execution_count": null,
   "id": "205ff221-9717-4464-9336-ee581077cee5",
   "metadata": {},
   "outputs": [],
   "source": []
  }
 ],
 "metadata": {
  "kernelspec": {
   "display_name": "Python 3 (ipykernel)",
   "language": "python",
   "name": "python3"
  },
  "language_info": {
   "codemirror_mode": {
    "name": "ipython",
    "version": 3
   },
   "file_extension": ".py",
   "mimetype": "text/x-python",
   "name": "python",
   "nbconvert_exporter": "python",
   "pygments_lexer": "ipython3",
   "version": "3.9.15"
  }
 },
 "nbformat": 4,
 "nbformat_minor": 5
}
