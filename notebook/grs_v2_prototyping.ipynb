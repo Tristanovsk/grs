{
 "cells": [
  {
   "cell_type": "code",
   "execution_count": null,
   "id": "ca0d394a-dbd8-4d2d-bda6-8b8bfa29c802",
   "metadata": {},
   "outputs": [],
   "source": []
  },
  {
   "cell_type": "code",
   "execution_count": null,
   "id": "026d1e16-d879-4369-a5fd-05783e5ecc99",
   "metadata": {},
   "outputs": [],
   "source": [
    "'''\n",
    "Main program\n",
    "'''\n",
    "from pathlib import Path\n",
    "import os, shutil\n",
    "import zipfile\n",
    "import tarfile\n",
    "import glob\n",
    "\n",
    "import matplotlib\n",
    "import matplotlib.pyplot as plt\n",
    "\n",
    "\n",
    "import numpy as np\n",
    "import xarray as xr\n",
    "import logging\n",
    "\n",
    "import memory_profiler\n",
    "%load_ext memory_profiler\n",
    "\n",
    "from s2driver import driver_S2_SAFE as S2\n",
    "\n",
    "from grs import product, acutils,cams_product, l2a_product,__version__\n",
    "from grs.fortran.grs import main_algo as grs_solver\n",
    "\n",
    "opj = os.path.join\n",
    "__version__"
   ]
  },
  {
   "cell_type": "code",
   "execution_count": null,
   "id": "e93cd49f-5bd4-43a8-a9f9-d1300d7cfdb6",
   "metadata": {},
   "outputs": [],
   "source": [
    "file = '/sat_data/satellite/sentinel2/L1C/31TFJ/S2A_MSIL1C_20201004T104031_N0209_R008_T31TFJ_20201004T125253.SAFE'\n",
    "file = '/media/harmel/vol1/Dropbox/satellite/S2/L1C/S2B_MSIL1C_20220731T103629_N0400_R008_T31TFJ_20220731T124834.SAFE'\n",
    "cams_file = '/media/harmel/vol1/Dropbox/satellite/S2/cnes/CAMS/2022-07-31-cams-global-atmospheric-composition-forecasts.nc'\n",
    "file_nc = file.replace('.SAFE', '.nc')\n",
    "\n",
    "\n",
    "bandIds = range(13)\n",
    "resolution = 60\n",
    "\n",
    "if not os.path.exists(file_nc):\n",
    "    l1c = S2.s2image(file, band_idx=bandIds, resolution=resolution)\n",
    "    print(l1c.crs)\n",
    "    l1c.load_product()\n",
    "    prod = product(l1c.prod)\n",
    "    encoding = {'bands': {'dtype': 'int16', 'scale_factor': 0.00001, 'add_offset': .3, '_FillValue': -32768},\n",
    "                'vza': {'dtype': 'int16', 'scale_factor': 0.001, '_FillValue': -9999},\n",
    "                'raa': {'dtype': 'int16', 'scale_factor': 0.001, '_FillValue': -9999},\n",
    "                'sza': {'dtype': 'int16', 'scale_factor': 0.001, '_FillValue': -9999}}\n",
    "    l1c.prod.to_netcdf(file_nc, encoding=encoding)\n",
    "    l1c.prod.close()\n",
    "\n",
    "else:\n",
    "    prod = product(xr.open_dataset(file_nc))\n",
    "prod.raster"
   ]
  },
  {
   "cell_type": "code",
   "execution_count": null,
   "id": "381a600d-49ec-46f4-8770-bd082c11da63",
   "metadata": {},
   "outputs": [],
   "source": [
    "\n",
    "##################################\n",
    "# GET ANCILLARY DATA (Pressure, O3, water vapor, NO2...\n",
    "##################################\n",
    "\n",
    "cams = cams_product(prod, cams_file=cams_file)\n",
    "cams.plot_params()"
   ]
  },
  {
   "cell_type": "code",
   "execution_count": null,
   "id": "7d906a9e-7ac6-4463-ba50-7609d8bcfbb0",
   "metadata": {},
   "outputs": [],
   "source": []
  },
  {
   "cell_type": "code",
   "execution_count": null,
   "id": "c2f111e2-237d-4398-8098-7f5936a72cbe",
   "metadata": {},
   "outputs": [],
   "source": [
    "\n",
    "##################################\n",
    "## ADD ELEVATION AND PRESSURE BAND\n",
    "##################################\n",
    "#prod.get_elevation()\n",
    "\n",
    "\n",
    "#####################################\n",
    "# LOAD LUT FOR ATMOSPHERIC CORRECTION\n",
    "#####################################\n",
    "logging.info('loading lut...' + prod.lutfine)\n",
    "lutf = acutils.lut(prod.band_names)\n",
    "lutc = acutils.lut(prod.band_names)\n",
    "lutf.load_lut(prod.lutfine, prod.sensordata.indband)\n",
    "lutc.load_lut(prod.lutcoarse, prod.sensordata.indband)\n"
   ]
  },
  {
   "cell_type": "code",
   "execution_count": null,
   "id": "fd88b279-bcb6-412b-9bac-f237f257371b",
   "metadata": {},
   "outputs": [],
   "source": [
    "\n",
    "####################################\n",
    "#    absorbing gases correction\n",
    "####################################\n",
    "gas_trans = acutils.gaseous_transmittance(prod, cams)\n",
    "Tg_raster = gas_trans.get_gaseous_transmittance()\n",
    "\n",
    "logging.info('correct for gaseous absorption')\n",
    "for wl in prod.wl.values:\n",
    "    prod.raster['bands'].loc[wl] = prod.raster.bands.sel(wl=wl) / Tg_raster.sel(wl=wl).interp(x=prod.raster.x,\n",
    "                                                                                              y=prod.raster.y)\n",
    "prod.raster.bands.attrs['gas_absorption_correction'] = True\n",
    "plt.figure()\n",
    "Tg_raster.mean('x').mean('y').plot()\n",
    "# Tg_raster.isel(wl=1).plot()\n",
    "p = Tg_raster.plot.imshow(col='wl', col_wrap=3, robust=True, cmap=plt.cm.Spectral_r,\n",
    "                          subplot_kws=dict(xlabel='', ylabel='', xticks=[], yticks=[]))"
   ]
  },
  {
   "cell_type": "code",
   "execution_count": null,
   "id": "dba181d7-1bd2-4f0d-8d48-ff8d251eb0e0",
   "metadata": {},
   "outputs": [],
   "source": [
    "\n",
    "######################################\n",
    "# Water mask\n",
    "######################################\n",
    "# Compute NDWI\n",
    "green = prod.raster.bands.sel(wl=prod.b565)\n",
    "nir = prod.raster.bands.sel(wl=prod.b865)\n",
    "swir = prod.raster.bands.sel(wl=prod.b1600)\n",
    "b2200 = prod.raster.bands.sel(wl=prod.b2200)\n",
    "\n",
    "ndwi = (green - nir) / (green + nir)\n",
    "ndwi_swir = (green - swir) / (green + swir)\n",
    "\n",
    "prod.raster['ndwi'] = ndwi\n",
    "prod.raster.ndwi.attrs = {\n",
    "'description': 'Normalized difference spectral index between bands at ' + str(prod.b565) + ' and ' + str(\n",
    "    prod.b865) + ' nm', 'units': '-'}\n",
    "prod.raster['ndwi_swir'] = ndwi_swir\n",
    "prod.raster.ndwi_swir.attrs = {\n",
    "'description': 'Normalized difference spectral index between bands at ' + str(prod.b565) + ' and ' + str(\n",
    "    prod.b1600) + ' nm', 'units': '-'}\n",
    "\n",
    "\n",
    "prod.raster['bands'] = prod.raster.bands.where(ndwi > prod.ndwi_threshold). \\\n",
    "    where(b2200 < prod.sunglint_threshold). \\\n",
    "    where(ndwi_swir > prod.green_swir_index_threshold)\n"
   ]
  },
  {
   "cell_type": "code",
   "execution_count": null,
   "id": "8971f382-5f6b-4dad-8a73-983fdcd29085",
   "metadata": {},
   "outputs": [],
   "source": [
    "wl_process =[443,  490,  560,  665,  705,\n",
    "             740,  783,  842,  865, 1610 , 2190]\n",
    "wl_process = prod.wl_process\n",
    "Nband = len(wl_process)\n",
    "vza = prod.raster.vza.sel(wl=wl_process)\n",
    "sza = prod.raster.sza\n",
    "raa = 180 - prod.raster.raa.sel(wl=wl_process)\n",
    "\n",
    "sza_ = np.linspace(sza.min(), sza.max(), 10)\n",
    "vza_ = np.linspace(vza.min(), vza.max(), 20)\n",
    "raa_ = np.linspace(raa.min(), raa.max(), 60)"
   ]
  },
  {
   "cell_type": "code",
   "execution_count": null,
   "id": "daad3051-13ab-478d-972e-e9162c183dae",
   "metadata": {},
   "outputs": [],
   "source": [
    "eps_sunglint = prod.sensordata.rg\n",
    "rot = prod.sensordata.rot\n",
    "rrs = prod.rrs\n",
    "width = prod.width\n",
    "height = prod.height\n",
    "chunk = 512\n",
    "ptype=np.float32\n",
    "logging.info('slice raster for desired wavelengths')\n",
    "raster = prod.raster['bands'].sel(wl=wl_process)\n",
    "\n",
    "solar_irr = prod.solar_irradiance.sel(wl=wl_process).values\n",
    "\n",
    "logging.info('get/set aerosol parameters')\n",
    "aotlut = np.array(lutf.aot, dtype=prod.type)\n",
    "fine_refl = lutf.refl.interp(vza=vza_).interp(azi=raa_).interp(sza=sza_)\n",
    "coarse_refl = lutc.refl.interp(vza=vza_).interp(azi=raa_).interp(sza=sza_)\n",
    "lut_shape = fine_refl.shape\n",
    "fine_Cext = lutf.Cext\n",
    "coarse_Cext = lutc.Cext\n",
    "aot_tot_cams_res = cams.cams_aod.interp(wavelength=wl_process)\n",
    "aot_sca_cams_res = aot_tot_cams_res * cams.cams_ssa.interp(wavelength=wl_process)\n",
    "# aot_tot = aot_tot_cams_res.interp(x=raster.x, y=raster.y)\n",
    "# aot_sca = aot_sca_cams_res.interp(x=raster.x, y=raster.y)\n",
    "# aot550guess = cams.raster.aod550.interp(x=raster.x, y=raster.y)\n",
    "# fcoef = np.full((prod.height, prod.width), 0.5)\n",
    "\n",
    "# TODO implement pre-masking, now set to zero\n",
    "maskpixels = np.zeros((prod.height, prod.width))\n",
    "\n",
    "logging.info('get pressure full raster')\n",
    "pressure_corr = cams.raster.sp.interp(x=raster.x, y=raster.y) * 1e-2 / prod.pressure_ref\n"
   ]
  },
  {
   "cell_type": "code",
   "execution_count": null,
   "id": "ab5aecf0-8d58-4928-bcc7-ee36db929e9f",
   "metadata": {},
   "outputs": [],
   "source": [
    "rcorr = np.full((Nband, width,height), np.nan,dtype=ptype)  # , order='F').T\n",
    "rcorrg = np.full((Nband, width,height), np.nan,dtype=ptype)  # , order='F').T\n",
    "aot550pix = np.full((width,height), np.nan,dtype=ptype)\n",
    "brdfpix = np.full((width,height), np.nan,dtype=ptype)"
   ]
  },
  {
   "cell_type": "code",
   "execution_count": null,
   "id": "c38cce62-993e-432f-aef1-c3c671a5cb27",
   "metadata": {},
   "outputs": [],
   "source": [
    "for iy in range(0, width, chunk):\n",
    "    yc = iy + chunk\n",
    "    if yc > width:\n",
    "        yc = width\n",
    "    for ix in range(0, height, chunk):\n",
    "        xc = ix + chunk\n",
    "        if xc > height:\n",
    "            xc = height\n",
    "\n",
    "        _sza = sza[ix:xc, iy:yc]\n",
    "        nx, ny = _sza.shape\n",
    "        if (nx == 0) or (ny == 0):\n",
    "            continue\n",
    "        _raa = raa[:, ix:xc, iy:yc]\n",
    "        _vza = vza[:, ix:xc, iy:yc]\n",
    "        _maskpixels = maskpixels[ix:xc, iy:yc]\n",
    "        _band_rad = raster[:, ix:xc, iy:yc]\n",
    "\n",
    "        # prepare aerosol parameters\n",
    "        aot_tot = aot_tot_cams_res.interp(x=_band_rad.x, y=_band_rad.y)\n",
    "        aot_sca = aot_sca_cams_res.interp(x=_band_rad.x, y=_band_rad.y)\n",
    "        aot550guess = cams.raster.aod550.interp(x=_band_rad.x, y=_band_rad.y)\n",
    "        fcoef = np.full((nx,ny), 0.65)\n",
    "        \n",
    "        pressure_corr = cams.raster.sp.interp(x=_band_rad.x, y=_band_rad.y) * 1e-2 / prod.pressure_ref\n",
    "\n",
    "        p = grs_solver.grs.main_algo(nx, ny, *lut_shape,\n",
    "                                     aotlut, sza_, raa_, vza_,\n",
    "                                     fine_refl, coarse_refl, fine_Cext, coarse_Cext,\n",
    "                                     _vza, _sza, _raa, _band_rad.values, _maskpixels,\n",
    "                                     wl_process, pressure_corr, eps_sunglint, solar_irr, rot,\n",
    "                                     aot_tot, aot_sca, aot550guess, fcoef, rrs)\n",
    "        rcorr[:, ix:xc, iy:yc] = p[0]\n",
    "        rcorrg[:, ix:xc, iy:yc] = p[1]\n",
    "        aot550pix[ix:xc, iy:yc] = p[2]\n",
    "        brdfpix[ix:xc, iy:yc] = p[3]\n"
   ]
  },
  {
   "cell_type": "code",
   "execution_count": null,
   "id": "f508ea72-a1a9-4407-bc12-67bea66e9726",
   "metadata": {},
   "outputs": [],
   "source": [
    "\n",
    "Rrs = xr.DataArray(rcorr, coords=raster.coords, name='Rrs')\n",
    "Rrs_g = xr.DataArray(rcorrg, coords=raster.coords, name='Rrs_g')\n",
    "aot550 = xr.DataArray(aot550pix, coords={'y': raster.y, 'x': raster.x}, name='aot550')\n",
    "brdfg = xr.DataArray(brdfpix, coords={'y': raster.y, 'x': raster.x}, name='BRDFg')\n",
    "l2_prod = xr.merge([ aot550, brdfg,Rrs, Rrs_g])\n",
    "l2a = l2a_product(prod, l2_prod, cams, gas_trans)\n"
   ]
  },
  {
   "cell_type": "code",
   "execution_count": null,
   "id": "401e1a6e-a730-4d54-8eb6-cfbc0923b32e",
   "metadata": {},
   "outputs": [],
   "source": [
    "l2a.to_netcdf('/sat_data/satellite/sentinel2/L2A/S2B_MSIL2Agrs_20220731T103629_N0400_R008_T31TFJ_20220731T124834')"
   ]
  },
  {
   "cell_type": "code",
   "execution_count": null,
   "id": "3cd889a0-15fc-4001-9af8-5622cbc5c685",
   "metadata": {},
   "outputs": [],
   "source": [
    "complevel=6\n",
    "encoding = {\n",
    "            'aot550': {'dtype': 'int16', 'scale_factor': 0.001, '_FillValue': -9999, \"zlib\": True,\n",
    "                       \"complevel\": complevel},\n",
    "            'BRDFg': {'dtype': 'int16', 'scale_factor': 0.00001, 'add_offset': .3, '_FillValue': -32768, \"zlib\": True,\n",
    "                      \"complevel\": complevel},\n",
    "            'Rrs': {'dtype': 'int16', 'scale_factor': 0.00001, 'add_offset': .3, '_FillValue': -32768, \"zlib\": True,\n",
    "                    \"complevel\": complevel},\n",
    "            'Rrs_g': {'dtype': 'int16', 'scale_factor': 0.00001, 'add_offset': .3, '_FillValue': -32768, \"zlib\": True,\n",
    "                      \"complevel\": complevel},\n",
    "            'o2_band': {'dtype': 'int16', 'scale_factor': 0.00001, 'add_offset': .3, '_FillValue': -32768, \"zlib\": True,\n",
    "                        \"complevel\": complevel},\n",
    "            'cirrus_band': {'dtype': 'int16', 'scale_factor': 0.00001, 'add_offset': .3, '_FillValue': -32768,\n",
    "                            \"zlib\": True,\n",
    "                            \"complevel\": complevel},\n",
    "            'ndwi': {'dtype': 'int16', 'scale_factor': 0.0001, '_FillValue': -32768, \"zlib\": True,\n",
    "                     \"complevel\": complevel},\n",
    "            'ndwi_swir': {'dtype': 'int16', 'scale_factor': 0.0001, '_FillValue': -32768, \"zlib\": True,\n",
    "                          \"complevel\": complevel},\n",
    "            'vza': {'dtype': 'int16', 'scale_factor': 0.001, '_FillValue': -9999, \"zlib\": True, \"complevel\": complevel},\n",
    "            'raa': {'dtype': 'int16', 'scale_factor': 0.001, '_FillValue': -9999, \"zlib\": True, \"complevel\": complevel},\n",
    "            'sza': {'dtype': 'int16', 'scale_factor': 0.001, '_FillValue': -9999, \"zlib\": True, \"complevel\": complevel},\n",
    "\n",
    "        }"
   ]
  },
  {
   "cell_type": "code",
   "execution_count": null,
   "id": "44eb5481-8f06-44da-872a-8d7b9962d083",
   "metadata": {},
   "outputs": [],
   "source": [
    "output_path='/sat_data/satellite/sentinel2/L2A/S2B_MSIL2Agrs_20220731T103629_N0400_R008_T31TFJ_20220731T124834'\n",
    "# export full raster data\n",
    "basename = os.path.basename(output_path)\n",
    "ofile = os.path.join(output_path, basename)\n",
    "\n",
    "if not os.path.exists(output_path):\n",
    "    os.mkdir(output_path)\n",
    "\n",
    "# clean up to avoid permission denied\n",
    "if os.path.exists(ofile + '.nc'):\n",
    "    os.remove(ofile + '.nc')\n",
    "if os.path.exists(ofile + '_anc.nc'):\n",
    "    os.remove(ofile + '_anc.nc')\n",
    "\n",
    "arg = 'w'\n",
    "for variable in list(l2a.l2_prod.keys()):\n",
    "    l2a.l2_prod[variable].to_netcdf(ofile + '.nc', arg, encoding={variable: encoding[variable]})\n",
    "    arg = 'a'\n",
    "l2a.l2_prod.close()\n"
   ]
  },
  {
   "cell_type": "code",
   "execution_count": null,
   "id": "14feedd6-16f6-4547-8978-b8eb1068886e",
   "metadata": {},
   "outputs": [],
   "source": [
    "{variable: encoding[variable]}"
   ]
  },
  {
   "cell_type": "code",
   "execution_count": null,
   "id": "f07138ac-4172-4fc3-8856-7f3283a8532c",
   "metadata": {},
   "outputs": [],
   "source": [
    "l2afile = '/media/harmel/data_sat/satellite/sentinel2/L2A/test.nc'\n",
    "l2a.l2_prod.to_netcdf(l2afile,encoding=encoding)\n",
    "l2a.ancillary.to_netcdf(l2afile,'a')"
   ]
  },
  {
   "cell_type": "code",
   "execution_count": null,
   "id": "83598b9a-11cb-415c-a640-6d8625a61212",
   "metadata": {},
   "outputs": [],
   "source": [
    "l2a.l2_prod.Rrs.plot.imshow(col='wl',col_wrap=4,robust=True,vmin=0,vmax=0.015,cmap=plt.cm.Spectral_r)\n"
   ]
  },
  {
   "cell_type": "code",
   "execution_count": null,
   "id": "36bd6dc6-06ce-4917-9e95-3a28c58028e1",
   "metadata": {},
   "outputs": [],
   "source": [
    "\n"
   ]
  },
  {
   "cell_type": "code",
   "execution_count": null,
   "id": "1c3ebe06-66c7-4435-bd52-8de07d1c149d",
   "metadata": {},
   "outputs": [],
   "source": [
    "filenc = '/sat_data/satellite/sentinel2/L2A/S2B_MSIL2Agrs_20220731T103629_N0400_R008_T31TFJ_20220731T124834.nc'\n",
    "fdata = xr.open_dataset(filenc,decode_coords='all')\n",
    "\n",
    "fanc = xr.open_dataset(filenc,decode_coords='all',group='zancillary')"
   ]
  },
  {
   "cell_type": "code",
   "execution_count": null,
   "id": "3722b5a5-03f0-4e6c-b825-7a153e118608",
   "metadata": {},
   "outputs": [],
   "source": [
    "variables = ['aot550', 'BRDFg', 'Rrs', 'Rrs_g', 'vza', 'sza', 'raa', 'o2_band', 'cirrus_band', 'ndwi', 'ndwi_swir']\n",
    "fdata[variables]"
   ]
  },
  {
   "cell_type": "code",
   "execution_count": null,
   "id": "bd751aa1-ce97-43ba-81e6-19cbb6cd10c3",
   "metadata": {},
   "outputs": [],
   "source": [
    "l2a.l2_prod\n"
   ]
  },
  {
   "cell_type": "code",
   "execution_count": null,
   "id": "2056b80b-ba76-4c00-a6ea-f0ddc748d861",
   "metadata": {},
   "outputs": [],
   "source": [
    "encoding#[variable]"
   ]
  },
  {
   "cell_type": "code",
   "execution_count": null,
   "id": "bf4ab9b7-43a8-4c86-a102-e7da1c52ae7c",
   "metadata": {},
   "outputs": [],
   "source": [
    "arg='w'\n",
    "for variable in list(l2a.l2_prod.keys()):\n",
    "    l2a.l2_prod[variable].to_netcdf(l2afile,arg,encoding={variable:encoding[variable]})\n",
    "    arg='a'"
   ]
  },
  {
   "cell_type": "code",
   "execution_count": null,
   "id": "89bb62ca-4c80-4447-ab89-adf9a8e25a4c",
   "metadata": {},
   "outputs": [],
   "source": [
    "fanc.to_netcdf('/sat_data/satellite/sentinel2/L2A/S2B_MSIL2Agrs_20220731T103629_N0400_R008_T31TFJ_20220731T124834_anc.nc','w')"
   ]
  },
  {
   "cell_type": "code",
   "execution_count": null,
   "id": "735daf30-79c5-4ede-bc7e-318c81a11af3",
   "metadata": {},
   "outputs": [],
   "source": [
    "d = xr.merge([fdata[variables],fanc]).compute()\n",
    "d"
   ]
  },
  {
   "cell_type": "code",
   "execution_count": null,
   "id": "fefa7437-f2b6-4293-a39b-3745d0881ec6",
   "metadata": {},
   "outputs": [],
   "source": [
    "for variable in list(l2a.ancillary.keys()):\n",
    "\n",
    "    encoding[variable] = {\"zlib\": True, \"complevel\": complevel}\n",
    "d.to_netcdf(l2afile) #,encoding=encoding)"
   ]
  },
  {
   "cell_type": "code",
   "execution_count": null,
   "id": "d8419613-cdf1-4287-94c6-ca691eaebc4b",
   "metadata": {},
   "outputs": [],
   "source": [
    "fanc"
   ]
  },
  {
   "cell_type": "code",
   "execution_count": null,
   "id": "04a4aacf-e581-49c4-938f-bb1a92cbc593",
   "metadata": {},
   "outputs": [],
   "source": [
    "print(list(fdata.keys())[::1])\n"
   ]
  },
  {
   "cell_type": "code",
   "execution_count": null,
   "id": "de849907-0783-497e-bb3d-133e9d6b937d",
   "metadata": {},
   "outputs": [],
   "source": []
  }
 ],
 "metadata": {
  "kernelspec": {
   "display_name": "Python 3 (ipykernel)",
   "language": "python",
   "name": "grstbx"
  },
  "language_info": {
   "codemirror_mode": {
    "name": "ipython",
    "version": 3
   },
   "file_extension": ".py",
   "mimetype": "text/x-python",
   "name": "python",
   "nbconvert_exporter": "python",
   "pygments_lexer": "ipython3",
   "version": "3.9.15"
  }
 },
 "nbformat": 4,
 "nbformat_minor": 5
}
