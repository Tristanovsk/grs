{
 "cells": [
  {
   "cell_type": "code",
   "execution_count": null,
   "id": "ca0d394a-dbd8-4d2d-bda6-8b8bfa29c802",
   "metadata": {},
   "outputs": [],
   "source": []
  },
  {
   "cell_type": "code",
   "execution_count": null,
   "id": "026d1e16-d879-4369-a5fd-05783e5ecc99",
   "metadata": {},
   "outputs": [],
   "source": [
    "'''\n",
    "Main program\n",
    "'''\n",
    "from pathlib import Path\n",
    "import os, shutil\n",
    "import zipfile\n",
    "import tarfile\n",
    "import glob\n",
    "\n",
    "import matplotlib\n",
    "import matplotlib.pyplot as plt\n",
    "\n",
    "import numpy as np\n",
    "import xarray as xr\n",
    "import logging\n",
    "\n",
    "from s2driver import driver_S2_SAFE as S2\n",
    "import grs\n",
    "from grs import product, acutils, utils, cams_product, l2a_product\n",
    "from grs.fortran.grs import main_algo as grs_solver\n",
    "\n",
    "opj = os.path.join\n",
    "grs.__version__"
   ]
  },
  {
   "cell_type": "code",
   "execution_count": null,
   "id": "e93cd49f-5bd4-43a8-a9f9-d1300d7cfdb6",
   "metadata": {},
   "outputs": [],
   "source": [
    "\n",
    "file = '/media/harmel/vol1/Dropbox/satellite/S2/L1C/S2B_MSIL1C_20220731T103629_N0400_R008_T31TFJ_20220731T124834.SAFE'\n",
    "ofile = '/media/harmel/vol1/Dropbox/satellite/S2/L2A/S2B_MSIL2Agrs_20220731T103629_N0400_R008_T31TFJ_20220731T124834.nc'\n",
    "resolution = 60\n",
    "cams_dir = '/media/harmel/vol1/Dropbox/satellite/S2/cnes/CAMS'\n",
    "allpixels=False"
   ]
  },
  {
   "cell_type": "code",
   "execution_count": null,
   "id": "aa9ffff2-6447-43d0-8f5f-98c27683ca96",
   "metadata": {},
   "outputs": [],
   "source": [
    "bandIds = range(13)\n",
    "logging.info('Open raw image and compute angle parameters')\n",
    "l1c = S2.s2image(file, band_idx=bandIds, resolution=resolution)\n",
    "l1c.load_product()"
   ]
  },
  {
   "cell_type": "code",
   "execution_count": null,
   "id": "ed48ad22-7230-4b6d-891e-6ac414c6e5fa",
   "metadata": {},
   "outputs": [],
   "source": [
    "logging.info('pass raw image as grs product object')\n",
    "prod = product(l1c.prod)"
   ]
  },
  {
   "cell_type": "code",
   "execution_count": null,
   "id": "1f9635c7-3f43-4f11-8e36-9d4dd5a5a6d5",
   "metadata": {},
   "outputs": [],
   "source": [
    "logging.info('get CAMS auxilliary data')\n",
    "cams = cams_product(prod, dir=cams_dir)"
   ]
  },
  {
   "cell_type": "code",
   "execution_count": null,
   "id": "50d18028-8cc1-4a6e-a295-78824f570afd",
   "metadata": {},
   "outputs": [],
   "source": [
    "logging.info('loading look-up tables')\n",
    "lutf = acutils.lut(prod.band_names)\n",
    "lutc = acutils.lut(prod.band_names)\n",
    "lutf.load_lut(prod.lutfine, prod.sensordata.indband)\n",
    "lutc.load_lut(prod.lutcoarse, prod.sensordata.indband)"
   ]
  },
  {
   "cell_type": "code",
   "execution_count": null,
   "id": "517364c8-7010-4e25-ae01-b5c9b013bb24",
   "metadata": {},
   "outputs": [],
   "source": [
    "logging.info('compute gaseous transmittance from cams data')\n",
    "gas_trans = acutils.gaseous_transmittance(prod, cams)\n",
    "Tg_raster = gas_trans.get_gaseous_transmittance()\n",
    "\n",
    "logging.info('correct for gaseous absorption')\n",
    "prod.raster['bands'] = prod.raster.bands / Tg_raster\n",
    "prod.raster.bands.attrs['gas_absorption_correction'] = True"
   ]
  },
  {
   "cell_type": "code",
   "execution_count": null,
   "id": "fd9a3f59-8d7a-44a5-8db6-81ac0e573456",
   "metadata": {},
   "outputs": [],
   "source": [
    "logging.info('compute spectral index (e.g., NDWI)')\n",
    "\n",
    "green = prod.raster.bands.sel(wl=prod.b565)\n",
    "nir = prod.raster.bands.sel(wl=prod.b865)\n",
    "swir = prod.raster.bands.sel(wl=prod.b1600)\n",
    "b2200 = prod.raster.bands.sel(wl=prod.b2200)\n",
    "\n",
    "ndwi = (green - nir) / (green + nir)\n",
    "ndwi_swir = (green - swir) / (green + swir)\n",
    "\n",
    "prod.raster['ndwi'] = ndwi\n",
    "prod.raster.ndwi.attrs = {\n",
    "    'description': 'Normalized difference spectral index between bands at ' + str(prod.b565) + ' and ' + str(\n",
    "        prod.b865) + ' nm', 'units': '-'}\n",
    "prod.raster['ndwi_swir'] = ndwi_swir\n",
    "prod.raster.ndwi_swir.attrs = {\n",
    "    'description': 'Normalized difference spectral index between bands at ' + str(prod.b565) + ' and ' + str(\n",
    "        prod.b1600) + ' nm', 'units': '-'}\n",
    "\n",
    "if allpixels:\n",
    "    masked_raster = prod.raster.bands\n",
    "else:\n",
    "    logging.info('apply water masking')\n",
    "    masked_raster = prod.raster.bands.where(ndwi > prod.ndwi_threshold). \\\n",
    "        where(b2200 < prod.sunglint_threshold). \\\n",
    "        where(ndwi_swir > prod.green_swir_index_threshold)"
   ]
  },
  {
   "cell_type": "code",
   "execution_count": null,
   "id": "cb6405e0-ab8d-41f5-a822-9633230010c7",
   "metadata": {},
   "outputs": [],
   "source": [
    "logging.info('round angles for speed up lut interpolation')\n",
    "def rounding(xarr, resol=1):\n",
    "    vals = np.unique(xarr.round(resol))\n",
    "    return vals[~np.isnan(vals)]\n",
    "\n",
    "sza_ = rounding(prod.raster.sza, 1)\n",
    "azi_ = rounding((180 - prod.raster.raa) % 360, 0)\n",
    "vza_ = rounding(prod.raster.vza, 1)\n"
   ]
  },
  {
   "cell_type": "markdown",
   "id": "40c3d76c-5636-4e97-8614-7a55f271edb4",
   "metadata": {},
   "source": [
    "\n",
    "## Set final parameters for grs processing\n"
   ]
  },
  {
   "cell_type": "code",
   "execution_count": null,
   "id": "b09d9b35-f7bc-4a26-8153-a0b6fd1f2531",
   "metadata": {},
   "outputs": [],
   "source": [
    "logging.info('set final parameters for grs processing')\n",
    "wl_process = prod.wl_process\n",
    "eps_sunglint = prod.sensordata.rg\n",
    "rot = prod.sensordata.rot\n",
    "rrs = prod.rrs\n",
    "Nx = prod.width\n",
    "Ny = prod.height\n",
    "\n",
    "logging.info('slice raster for desired wavelengths')\n",
    "raster = masked_raster.sel(wl=wl_process)\n",
    "band_rad = raster.values\n",
    "vza = prod.raster.sel(wl=wl_process).vza.values\n",
    "sza = prod.raster.sel(wl=wl_process).sza.values\n",
    "razi = prod.raster.sel(wl=wl_process).raa.values\n",
    "solar_irr = prod.solar_irradiance.sel(wl=wl_process).values\n",
    "\n",
    "logging.info('get/set aerosol parameters')\n",
    "aotlut = np.array(lutf.aot, dtype=prod.type)\n",
    "fine_refl = lutf.refl.interp(vza=vza_).interp(azi=azi_).interp(sza=sza_)\n",
    "coarse_refl = lutc.refl.interp(vza=vza_).interp(azi=azi_).interp(sza=sza_)\n",
    "lut_shape = fine_refl.shape\n",
    "fine_Cext = lutf.Cext\n",
    "coarse_Cext = lutc.Cext\n",
    "aot_tot_cams_res = cams.cams_aod.interp(wavelength=wl_process)\n",
    "aot_sca_cams_res = aot_tot_cams_res * cams.cams_ssa.interp(wavelength=wl_process)\n",
    "aot_tot = aot_tot_cams_res.interp(x=raster.x, y=raster.y)\n",
    "aot_sca = aot_sca_cams_res.interp(x=raster.x, y=raster.y)\n",
    "aot550guess = cams.raster.aod550.interp(x=raster.x, y=raster.y)\n",
    "fcoef = np.full((prod.height, prod.width), 0.5)\n",
    "\n",
    "\n",
    "# TODO implement pre-masking, now set to zero\n",
    "maskpixels = np.zeros((prod.height, prod.width))\n",
    "\n",
    "logging.info('get pressure full raster')\n",
    "pressure_corr = cams.raster.sp.interp(x=raster.x, y=raster.y) * 1e-2 / prod.pressure_ref"
   ]
  },
  {
   "cell_type": "markdown",
   "id": "88540f7e-3ce0-4aa2-9b5a-3ca1068112d8",
   "metadata": {},
   "source": [
    "\n",
    "## Run grs processing"
   ]
  },
  {
   "cell_type": "code",
   "execution_count": null,
   "id": "182922b5-7b76-467c-a0e4-a63fb12bcf43",
   "metadata": {},
   "outputs": [],
   "source": [
    "logging.info('run grs process')\n",
    "p = grs_solver.grs.main_algo(Nx, Ny, *lut_shape,\n",
    "                             aotlut, sza_, azi_, vza_,\n",
    "                             fine_refl, coarse_refl, fine_Cext, coarse_Cext,\n",
    "                             vza, sza, razi, band_rad, maskpixels,\n",
    "                             wl_process, pressure_corr, eps_sunglint, solar_irr, rot,\n",
    "                             aot_tot, aot_sca, aot550guess, fcoef, rrs)"
   ]
  },
  {
   "cell_type": "markdown",
   "id": "e5a36dd7-d7a6-4492-ad3a-0849e7ae55d9",
   "metadata": {},
   "source": [
    "## Construct l2a product"
   ]
  },
  {
   "cell_type": "code",
   "execution_count": null,
   "id": "2baffa1e-7fc7-4861-8dc4-257e7042f2c3",
   "metadata": {},
   "outputs": [],
   "source": [
    "logging.info('construct final product')\n",
    "rcorr, rcorrg, aot550pix, brdfpix = p\n",
    "Rrs = xr.DataArray(rcorr, coords=raster.coords, name='Rrs')\n",
    "Rrs_g = xr.DataArray(rcorrg, coords=raster.coords, name='Rrs_g')\n",
    "aot550 = xr.DataArray(aot550pix, coords={'y': raster.y, 'x': raster.x}, name='aot550')\n",
    "brdfg = xr.DataArray(brdfpix, coords={'y': raster.y, 'x': raster.x}, name='BRDFg')\n",
    "l2_prod = xr.merge([Rrs, Rrs_g, aot550, brdfg])\n",
    "\n",
    "l2_prod = l2_prod.drop_vars('pressure')\n",
    "l2a = l2a_product(prod, l2_prod, cams, gas_trans)"
   ]
  },
  {
   "cell_type": "code",
   "execution_count": null,
   "id": "db0053c3-9f49-4f6d-8f9e-3728f5c8fcb5",
   "metadata": {},
   "outputs": [],
   "source": [
    "prod.raster"
   ]
  },
  {
   "cell_type": "code",
   "execution_count": null,
   "id": "579de201-8223-4931-b5c8-f47b9ce0ad0d",
   "metadata": {},
   "outputs": [],
   "source": [
    "l2a.l2_prod"
   ]
  },
  {
   "cell_type": "markdown",
   "id": "75e27743-3ba4-4963-afdb-6f13bbd31f7f",
   "metadata": {},
   "source": [
    "## Export l2a product into netcdf"
   ]
  },
  {
   "cell_type": "code",
   "execution_count": null,
   "id": "db87ad3a-9e38-455c-9b62-0688060f066c",
   "metadata": {},
   "outputs": [],
   "source": [
    "l2a.to_netcdf(ofile)"
   ]
  },
  {
   "cell_type": "markdown",
   "id": "b69190b0-1d43-4a84-868d-d7ed2edb24a6",
   "metadata": {},
   "source": [
    "\n",
    "## Plot and interact\n"
   ]
  },
  {
   "cell_type": "code",
   "execution_count": null,
   "id": "de596634-b879-4b5c-b8b5-9b721a257b9d",
   "metadata": {},
   "outputs": [],
   "source": [
    "variable = 'Rrs' \n",
    "raster = l2a.l2_prod[variable]#L2grs #masked[param] \n",
    "vmax = 0.03\n",
    "cmap='RdBu_r'\n",
    "cmap='Spectral_r'"
   ]
  },
  {
   "cell_type": "code",
   "execution_count": null,
   "id": "3f270863-7726-4e5e-ae81-d7322e479c05",
   "metadata": {},
   "outputs": [],
   "source": [
    "from holoviews import streams\n",
    "import holoviews as hv\n",
    "import panel as pn\n",
    "import param\n",
    "import numpy as np\n",
    "import xarray as xr\n",
    "hv.extension('bokeh')\n",
    "from holoviews import opts\n",
    "\n",
    "\n",
    "opts.defaults(\n",
    "    opts.GridSpace(shared_xaxis=True, shared_yaxis=True),\n",
    "    opts.Image(cmap='binary_r', width=800, height=700),\n",
    "    opts.Labels(text_color='white', text_font_size='8pt', text_align='left', text_baseline='bottom'),\n",
    "    opts.Path(color='white'),\n",
    "    opts.Spread(width=900),\n",
    "    opts.Overlay(show_legend=True))\n",
    "# set the parameter for spectra extraction\n",
    "hv.extension('bokeh')\n",
    "pn.extension()\n",
    "\n",
    "\n",
    "\n",
    "third_dim = 'wl'\n",
    "\n",
    "wl= raster.wl.data\n",
    "Nwl = len(wl)\n",
    "ds = hv.Dataset(raster.persist())\n",
    "im= ds.to(hv.Image, ['x', 'y'], dynamic=True).opts(cmap=cmap ,colorbar=True,clim=(0.00,vmax)).hist(bin_range=(0,0.2)) \n",
    "\n",
    "polys = hv.Polygons([])\n",
    "box_stream = hv.streams.BoxEdit(source=polys)\n",
    "dmap, dmap_std=[],[]\n",
    "\n",
    "def roi_curves(data,ds=ds):    \n",
    "    if not data or not any(len(d) for d in data.values()):\n",
    "        return hv.NdOverlay({0: hv.Curve([],'Wavelength (nm)', variable)})\n",
    "\n",
    "    curves,envelope = {},{}\n",
    "    data = zip(data['x0'], data['x1'], data['y0'], data['y1'])\n",
    "    for i, (x0, x1, y0, y1) in enumerate(data):\n",
    "        selection = ds.select(x=(x0, x1), y=(y0, y1))\n",
    "        mean = selection.aggregate(third_dim, np.mean).data\n",
    "        std = selection.aggregate(third_dim, np.std).data\n",
    "        wl = mean.wl\n",
    "\n",
    "        curves[i]= hv.Curve((wl,mean[variable]),'Wavelength (nm)', variable) \n",
    "\n",
    "    return hv.NdOverlay(curves)\n",
    "\n",
    "\n",
    "# a bit dirty to have two similar function, but holoviews does not like mixing Curve and Spread for the same stream\n",
    "def roi_spreads(data,ds=ds):    \n",
    "    if not data or not any(len(d) for d in data.values()):\n",
    "        return hv.NdOverlay({0: hv.Curve([],'Wavelength (nm)', variable)})\n",
    "\n",
    "    curves,envelope = {},{}\n",
    "    data = zip(data['x0'], data['x1'], data['y0'], data['y1'])\n",
    "    for i, (x0, x1, y0, y1) in enumerate(data):\n",
    "        selection = ds.select(x=(x0, x1), y=(y0, y1))\n",
    "        mean = selection.aggregate(third_dim, np.mean).data\n",
    "        std = selection.aggregate(third_dim, np.std).data\n",
    "        wl = mean.wl\n",
    "\n",
    "        curves[i]=  hv.Spread((wl,mean[variable],std[variable]),fill_alpha=0.3)\n",
    "\n",
    "    return hv.NdOverlay(curves)\n",
    "\n",
    "mean=hv.DynamicMap(roi_curves,streams=[box_stream])\n",
    "std =hv.DynamicMap(roi_spreads, streams=[box_stream])    \n",
    "hlines = hv.HoloMap({wl[i]: hv.VLine(wl[i]) for i in range(Nwl)},third_dim )\n",
    "\n",
    "widget = pn.widgets.RangeSlider(start=0, end=vmax,step=0.001)\n",
    "\n",
    "jscode = \"\"\"\n",
    "    color_mapper.low = cb_obj.value[0];\n",
    "    color_mapper.high = cb_obj.value[1];\n",
    "\"\"\"\n",
    "link = widget.jslink(im, code={'value': jscode})\n",
    "\n",
    "hv.output(widget_location='top_left')\n",
    "\n",
    "# visualize and play\n",
    "graphs = ((mean* std *hlines).relabel(variable))\n",
    "layout = (im * polys +graphs    ).opts(opts.Image(tools=['hover']),\n",
    "    opts.Curve(width=750,height=500, framewise=True,xlim=(400,1140),tools=['hover']), \n",
    "    opts.Polygons(fill_alpha=0.2, color='green',line_color='black'), \n",
    "    opts.VLine(color='black')).cols(2)\n",
    "layout "
   ]
  },
  {
   "cell_type": "code",
   "execution_count": null,
   "id": "411b05c8-4fee-4116-9389-8b52aedd3057",
   "metadata": {},
   "outputs": [],
   "source": []
  }
 ],
 "metadata": {
  "kernelspec": {
   "display_name": "grstbx",
   "language": "python",
   "name": "grstbx"
  },
  "language_info": {
   "codemirror_mode": {
    "name": "ipython",
    "version": 3
   },
   "file_extension": ".py",
   "mimetype": "text/x-python",
   "name": "python",
   "nbconvert_exporter": "python",
   "pygments_lexer": "ipython3",
   "version": "3.9.15"
  }
 },
 "nbformat": 4,
 "nbformat_minor": 5
}
