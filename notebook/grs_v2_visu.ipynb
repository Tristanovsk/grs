{
 "cells": [
  {
   "cell_type": "code",
   "execution_count": null,
   "id": "ca0d394a-dbd8-4d2d-bda6-8b8bfa29c802",
   "metadata": {},
   "outputs": [],
   "source": []
  },
  {
   "cell_type": "code",
   "execution_count": null,
   "id": "026d1e16-d879-4369-a5fd-05783e5ecc99",
   "metadata": {},
   "outputs": [],
   "source": [
    "'''\n",
    "Main program\n",
    "'''\n",
    "from pathlib import Path\n",
    "import os, shutil\n",
    "import zipfile\n",
    "import tarfile\n",
    "import glob\n",
    "\n",
    "import matplotlib\n",
    "import matplotlib.pyplot as plt\n",
    "\n",
    "import numpy as np\n",
    "import xarray as xr\n",
    "import rioxarray as rio\n",
    "import logging\n",
    "\n",
    "from s2driver import driver_S2_SAFE as S2\n",
    "import grs\n",
    "from grs import product, acutils, utils, cams_product, l2a_product\n",
    "from grs.fortran.grs import main_algo as grs_solver\n",
    "\n",
    "opj = os.path.join\n",
    "grs.__version__"
   ]
  },
  {
   "cell_type": "code",
   "execution_count": null,
   "id": "e93cd49f-5bd4-43a8-a9f9-d1300d7cfdb6",
   "metadata": {},
   "outputs": [],
   "source": [
    "file = '/media/harmel/vol1/Dropbox/satellite/S2/L2A/S2B_MSIL2Agrs_20220731T103629_N0400_R008_T31TFJ_20220731T124834.nc'\n",
    "file = '/sat_data/satellite/sentinel2/L2A/S2B_MSIL2Agrs_20220731T103629_N0400_R008_T31TFJ_20220731T124834.nc'\n",
    "l2a = xr.open_dataset(file,decode_coords='all')"
   ]
  },
  {
   "cell_type": "code",
   "execution_count": null,
   "id": "4e00d7fe-628f-482b-8bb3-926fde3f2445",
   "metadata": {},
   "outputs": [],
   "source": [
    "raster = l2a[['Rrs','Rrs_g']].rio.reproject(\"EPSG:3857\")\n"
   ]
  },
  {
   "cell_type": "code",
   "execution_count": null,
   "id": "eccbacd3-ad74-441f-8c4f-debb19b3bbd4",
   "metadata": {},
   "outputs": [],
   "source": [
    "l2a"
   ]
  },
  {
   "cell_type": "markdown",
   "id": "b69190b0-1d43-4a84-868d-d7ed2edb24a6",
   "metadata": {},
   "source": [
    "\n",
    "## Plot and interact\n"
   ]
  },
  {
   "cell_type": "code",
   "execution_count": null,
   "id": "de596634-b879-4b5c-b8b5-9b721a257b9d",
   "metadata": {},
   "outputs": [],
   "source": [
    "variable = 'Rrs' \n",
    "raster_ = l2a[variable]#L2grs #masked[param] \n",
    "vmax = 0.03\n",
    "cmap='RdBu_r'\n",
    "cmap='Spectral_r'"
   ]
  },
  {
   "cell_type": "code",
   "execution_count": null,
   "id": "3f270863-7726-4e5e-ae81-d7322e479c05",
   "metadata": {},
   "outputs": [],
   "source": [
    "from holoviews import streams\n",
    "import holoviews as hv\n",
    "import panel as pn\n",
    "import param\n",
    "import numpy as np\n",
    "import xarray as xr\n",
    "hv.extension('bokeh')\n",
    "from holoviews import opts\n",
    "\n",
    "\n",
    "opts.defaults(\n",
    "    opts.GridSpace(shared_xaxis=True, shared_yaxis=True),\n",
    "    opts.Image(cmap='binary_r', width=800, height=700),\n",
    "    opts.Labels(text_color='white', text_font_size='8pt', text_align='left', text_baseline='bottom'),\n",
    "    opts.Path(color='white'),\n",
    "    opts.Spread(width=900),\n",
    "    opts.Overlay(show_legend=True))\n",
    "# set the parameter for spectra extraction\n",
    "hv.extension('bokeh')\n",
    "pn.extension()\n",
    "\n",
    "\n",
    "\n",
    "third_dim = 'wl'\n",
    "\n",
    "wl= raster_.wl.data\n",
    "Nwl = len(wl)\n",
    "ds = hv.Dataset(raster_.persist())\n",
    "im= ds.to(hv.Image, ['x', 'y'], dynamic=True).opts(cmap=cmap ,colorbar=True,clim=(0.00,vmax)).hist(bin_range=(0,0.2)) \n",
    "\n",
    "polys = hv.Polygons([])\n",
    "box_stream = hv.streams.BoxEdit(source=polys)\n",
    "dmap, dmap_std=[],[]\n",
    "\n",
    "def roi_curves(data,ds=ds):    \n",
    "    if not data or not any(len(d) for d in data.values()):\n",
    "        return hv.NdOverlay({0: hv.Curve([],'Wavelength (nm)', variable)})\n",
    "\n",
    "    curves,envelope = {},{}\n",
    "    data = zip(data['x0'], data['x1'], data['y0'], data['y1'])\n",
    "    for i, (x0, x1, y0, y1) in enumerate(data):\n",
    "        selection = ds.select(x=(x0, x1), y=(y0, y1))\n",
    "        mean = selection.aggregate(third_dim, np.mean).data\n",
    "        std = selection.aggregate(third_dim, np.std).data\n",
    "        wl = mean.wl\n",
    "\n",
    "        curves[i]= hv.Curve((wl,mean[variable]),'Wavelength (nm)', variable) \n",
    "\n",
    "    return hv.NdOverlay(curves)\n",
    "\n",
    "\n",
    "# a bit dirty to have two similar function, but holoviews does not like mixing Curve and Spread for the same stream\n",
    "def roi_spreads(data,ds=ds):    \n",
    "    if not data or not any(len(d) for d in data.values()):\n",
    "        return hv.NdOverlay({0: hv.Curve([],'Wavelength (nm)', variable)})\n",
    "\n",
    "    curves,envelope = {},{}\n",
    "    data = zip(data['x0'], data['x1'], data['y0'], data['y1'])\n",
    "    for i, (x0, x1, y0, y1) in enumerate(data):\n",
    "        selection = ds.select(x=(x0, x1), y=(y0, y1))\n",
    "        mean = selection.aggregate(third_dim, np.mean).data\n",
    "        std = selection.aggregate(third_dim, np.std).data\n",
    "        wl = mean.wl\n",
    "\n",
    "        curves[i]=  hv.Spread((wl,mean[variable],std[variable]),fill_alpha=0.3)\n",
    "\n",
    "    return hv.NdOverlay(curves)\n",
    "\n",
    "mean=hv.DynamicMap(roi_curves,streams=[box_stream])\n",
    "std =hv.DynamicMap(roi_spreads, streams=[box_stream])    \n",
    "hlines = hv.HoloMap({wl[i]: hv.VLine(wl[i]) for i in range(Nwl)},third_dim )\n",
    "\n",
    "widget = pn.widgets.RangeSlider(start=0, end=vmax,step=0.001)\n",
    "\n",
    "jscode = \"\"\"\n",
    "    color_mapper.low = cb_obj.value[0];\n",
    "    color_mapper.high = cb_obj.value[1];\n",
    "\"\"\"\n",
    "link = widget.jslink(im, code={'value': jscode})\n",
    "\n",
    "hv.output(widget_location='top_left')\n",
    "\n",
    "# visualize and play\n",
    "graphs = ((mean* std *hlines).relabel(variable))\n",
    "layout = (im * polys +graphs    ).opts(opts.Image(tools=['hover']),\n",
    "    opts.Curve(width=750,height=500, framewise=True,xlim=(400,1140),tools=['hover']), \n",
    "    opts.Polygons(fill_alpha=0.2, color='green',line_color='black'), \n",
    "    opts.VLine(color='black')).cols(2)\n",
    "layout "
   ]
  },
  {
   "cell_type": "code",
   "execution_count": null,
   "id": "411b05c8-4fee-4116-9389-8b52aedd3057",
   "metadata": {},
   "outputs": [],
   "source": [
    "import grstbx\n",
    "from grstbx import visual"
   ]
  },
  {
   "cell_type": "code",
   "execution_count": null,
   "id": "ce15fe27-d3b3-4e2d-a830-c412e5d1a1a5",
   "metadata": {},
   "outputs": [],
   "source": [
    "import datetime as dt\n",
    "time = dt.datetime.strptime(l2a.acquisition_date, '%Y-%m-%dT%H:%M:%S.%fZ')\n",
    "raster = raster.expand_dims({'time':[time]})"
   ]
  },
  {
   "cell_type": "code",
   "execution_count": null,
   "id": "3f83b906-6ab2-49e4-b112-381ac022f241",
   "metadata": {},
   "outputs": [],
   "source": [
    "raster"
   ]
  },
  {
   "cell_type": "code",
   "execution_count": null,
   "id": "9a1a983b-fe33-41ec-b73f-428576a5cd59",
   "metadata": {},
   "outputs": [],
   "source": [
    "import holoviews as hv\n",
    "\n",
    "hv.extension('bokeh')\n",
    "v=visual.view_spectral(raster.Rrs)"
   ]
  },
  {
   "cell_type": "code",
   "execution_count": null,
   "id": "01acaea7-86ab-472b-bc3b-060b83dd6801",
   "metadata": {},
   "outputs": [],
   "source": [
    "v.visu()\n"
   ]
  },
  {
   "cell_type": "code",
   "execution_count": null,
   "id": "96383d6b-5e23-4c11-a905-e73a78c5625b",
   "metadata": {},
   "outputs": [],
   "source": [
    "v.aoi_stream.data"
   ]
  },
  {
   "cell_type": "code",
   "execution_count": null,
   "id": "ce9c9fb3-1305-484d-a13a-3016ef1a2da7",
   "metadata": {},
   "outputs": [],
   "source": []
  }
 ],
 "metadata": {
  "kernelspec": {
   "display_name": "grstbx",
   "language": "python",
   "name": "grstbx"
  },
  "language_info": {
   "codemirror_mode": {
    "name": "ipython",
    "version": 3
   },
   "file_extension": ".py",
   "mimetype": "text/x-python",
   "name": "python",
   "nbconvert_exporter": "python",
   "pygments_lexer": "ipython3",
   "version": "3.9.15"
  }
 },
 "nbformat": 4,
 "nbformat_minor": 5
}
