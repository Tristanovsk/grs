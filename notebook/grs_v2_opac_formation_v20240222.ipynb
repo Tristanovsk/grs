{
 "cells": [
  {
   "cell_type": "code",
   "execution_count": null,
   "id": "ca0d394a-dbd8-4d2d-bda6-8b8bfa29c802",
   "metadata": {},
   "outputs": [],
   "source": []
  },
  {
   "cell_type": "code",
   "execution_count": null,
   "id": "026d1e16-d879-4369-a5fd-05783e5ecc99",
   "metadata": {},
   "outputs": [],
   "source": [
    "'''\n",
    "Main program\n",
    "'''\n",
    "from pathlib import Path\n",
    "import os, shutil\n",
    "import zipfile\n",
    "import tarfile\n",
    "import glob\n",
    "\n",
    "import matplotlib as mpl\n",
    "import matplotlib.pyplot as plt\n",
    "\n",
    "import numpy as np\n",
    "import xarray as xr\n",
    "import pandas as pd\n",
    "import logging\n",
    "\n",
    "from holoviews import streams\n",
    "import holoviews as hv\n",
    "import panel as pn\n",
    "import param\n",
    "hv.extension('bokeh')\n",
    "from holoviews import opts\n",
    "\n",
    "import cartopy.crs as ccrs\n",
    "\n",
    "from s2driver import driver_S2_SAFE as S2\n",
    "\n",
    "from grs import Product, AuxData, acutils, CamsProduct, L2aProduct, __version__\n",
    "\n",
    "import grstbx\n",
    "from grstbx import visual\n",
    "\n",
    "pn.extension()\n",
    "\n",
    "\n",
    "opj = os.path.join\n",
    "__version__"
   ]
  },
  {
   "cell_type": "markdown",
   "id": "52c921d1-b7af-485c-b556-91e642af3387",
   "metadata": {},
   "source": [
    "### Indicate the path where you put the look-up table file"
   ]
  },
  {
   "cell_type": "code",
   "execution_count": null,
   "id": "0398f0f5-0380-482b-9fea-b02921801fd8",
   "metadata": {},
   "outputs": [],
   "source": [
    "lut_file = '/data/vrtc/xlut/toa_lut_opac_wind_light.nc'\n",
    "lut_file = '/data/vrtc/xlut/toa_lut_opac_wind_light_v2.nc'\n",
    "trans_lut_file = '/data/vrtc/xlut/transmittance_lut_opac_wind_light_v2.nc'"
   ]
  },
  {
   "cell_type": "markdown",
   "id": "bce38876-e755-4906-8136-56798bf248de",
   "metadata": {},
   "source": [
    "### Set the path of your Sentinel-2 image and corresponding CAMS file"
   ]
  },
  {
   "cell_type": "code",
   "execution_count": null,
   "id": "3e58bdb2-6956-4de4-8151-3532fb6e8b47",
   "metadata": {},
   "outputs": [],
   "source": [
    "workdir = '/data/satellite/Sentinel-2/projet/robert/L1C/2021/'\n",
    "files = pn.widgets.FileSelector(workdir)\n",
    "\n",
    "files"
   ]
  },
  {
   "cell_type": "code",
   "execution_count": null,
   "id": "eef4efd9-873b-45cc-9f15-8fcf3662550e",
   "metadata": {},
   "outputs": [],
   "source": [
    "#file = files.value[0]\n",
    "#file = '/data/satellite/Sentinel-2/L1C/45TVG/2022/06/12/S2B_MSIL1C_20220612T050659_N0400_R019_T45TVG_20220612T070737.SAFE'\n",
    "file = '/data/satellite/Sentinel-2/L1C/45TWG/2022/06/12/S2B_MSIL1C_20220612T050659_N0400_R019_T45TWG_20220612T070737.SAFE'\n",
    "\n",
    "tile = file.split('_')[-2][1:]\n",
    "dem_file = '/home/harmel/Dropbox/Dropbox/satellite/dem/COP-DEM_GLO-30-DGED_'+tile+'.tif'\n",
    "\n",
    "cams_file = '/data/cams/world/cams_forecast_2021-01.nc'\n",
    "\n",
    "file_nc = file.replace('.SAFE', '.nc')"
   ]
  },
  {
   "cell_type": "markdown",
   "id": "e4fab459-9f8b-428a-8a61-171ea0a82be8",
   "metadata": {},
   "source": [
    "### First, check the bands available:"
   ]
  },
  {
   "cell_type": "code",
   "execution_count": null,
   "id": "37505392-33af-4fb0-873c-18fd37e92168",
   "metadata": {},
   "outputs": [],
   "source": [
    "S2.INFO"
   ]
  },
  {
   "cell_type": "code",
   "execution_count": null,
   "id": "fd96ce42-33ab-4b95-8882-60d4e0934c4a",
   "metadata": {},
   "outputs": [],
   "source": [
    "bandIds = range(13)\n",
    "resolution = 20"
   ]
  },
  {
   "cell_type": "markdown",
   "id": "611b6416-879a-42c9-bd77-ed76d79d336d",
   "metadata": {},
   "source": [
    "### Load the image and convert it into netcdf for further fatest loading (not necessary)"
   ]
  },
  {
   "cell_type": "code",
   "execution_count": null,
   "id": "a9126ecb-116b-4d5e-9349-1c5f63c9c414",
   "metadata": {},
   "outputs": [],
   "source": [
    "\n",
    "prod = Product(xr.open_dataset(file_nc))\n"
   ]
  },
  {
   "cell_type": "code",
   "execution_count": null,
   "id": "06db4dd5-86fc-4eee-a521-751c8913b04f",
   "metadata": {},
   "outputs": [],
   "source": [
    "prod.raster"
   ]
  },
  {
   "cell_type": "code",
   "execution_count": null,
   "id": "d51d625f-adca-4f88-a841-0a04df9ee644",
   "metadata": {},
   "outputs": [],
   "source": [
    "import cycler\n",
    "\n",
    "n = 13\n",
    "color = plt.cm.Spectral_r(np.linspace(0, 1,n))\n",
    "mpl.rcParams['axes.prop_cycle'] = cycler.cycler('color', color)\n",
    "prod.raster.SRF.plot(x='wl_hr',hue='wl',lw=1,add_legend=False)"
   ]
  },
  {
   "cell_type": "markdown",
   "id": "84793123-89da-40d6-9ab6-04e432f6351e",
   "metadata": {},
   "source": [
    "Check RGB image"
   ]
  },
  {
   "cell_type": "code",
   "execution_count": null,
   "id": "05c4a7d5-7f46-49ce-b702-7aef24c2861c",
   "metadata": {},
   "outputs": [],
   "source": [
    "dem=xr.open_dataset(dem_file).squeeze()\n",
    "dem=dem.rename_vars({'band_data':'elevation'})\n",
    "\n",
    "x, y = np.gradient(dem.elevation)\n",
    "azi=prod.raster.mean_solar_azimuth\n",
    "sza=prod.raster.mean_solar_zenith_angle\n",
    "azir=np.radians(azi%360)\n",
    "szar=np.radians(sza)\n",
    "\n",
    "slope =np.arctan(np.sqrt(x * x + y * y))\n",
    "aspect = np.arctan2(-x,y)\n",
    "\n",
    "shaded = np.cos(szar) * np.cos(slope) + np.sin(szar) * np.sin(slope) * np.cos(azir - aspect)\n",
    "\n",
    "dem=dem.merge(xr.Dataset(dict(shaded=([\"y\", \"x\"],shaded),\n",
    "                              slope=([\"y\", \"x\"],slope)),\n",
    "                         \n",
    "                       \n",
    "                  coords=dict(x=dem.x,\n",
    "                              y=dem.y),\n",
    "               ))"
   ]
  },
  {
   "cell_type": "code",
   "execution_count": null,
   "id": "c469dcbf-9cd5-4ee2-9e30-4ce643054a71",
   "metadata": {},
   "outputs": [],
   "source": [
    "prod.raster"
   ]
  },
  {
   "cell_type": "code",
   "execution_count": null,
   "id": "9aba7dd8-5ac0-4261-9cf5-cd69ad555bf5",
   "metadata": {},
   "outputs": [],
   "source": [
    "str_epsg = str(prod.raster.rio.crs)\n",
    "zone = str_epsg[-2:]\n",
    "is_south = str_epsg[2] == 7\n",
    "proj = ccrs.UTM(zone, is_south)\n",
    "\n",
    "plt.figure(figsize=(15,15))\n",
    "prod.raster.bands.sel(wl=[665,560,490]).plot.imshow(rgb='wl', robust=True,subplot_kws=dict(projection=proj))"
   ]
  },
  {
   "cell_type": "code",
   "execution_count": null,
   "id": "5a3773e3-21f8-46b3-a162-a271c9b156aa",
   "metadata": {},
   "outputs": [],
   "source": [
    "prod.raster.sza.mean()"
   ]
  },
  {
   "cell_type": "code",
   "execution_count": null,
   "id": "3f2cd0e7-dee8-4c45-9b9d-c2f547ba16dc",
   "metadata": {},
   "outputs": [],
   "source": [
    "plt.figure(figsize=(15,15))\n",
    "dem.slope.plot.imshow(robust=True,subplot_kws=dict(projection=proj),cmap=plt.cm.Greys_r,cbar_kwargs={'shrink':0.35})"
   ]
  },
  {
   "cell_type": "code",
   "execution_count": null,
   "id": "d59bfb2e-aa1b-4564-bca4-fbffdae17d7a",
   "metadata": {},
   "outputs": [],
   "source": [
    "plt.figure(figsize=(15,15))\n",
    "dem.shaded.plot.imshow(robust=True,subplot_kws=dict(projection=proj),cmap=plt.cm.Greys_r,cbar_kwargs={'shrink':0.35})"
   ]
  },
  {
   "cell_type": "markdown",
   "id": "5566c281-0eb5-44aa-a40b-02f841d14a5e",
   "metadata": {},
   "source": [
    "### Visualize, interact and subset your region of interest"
   ]
  },
  {
   "cell_type": "code",
   "execution_count": null,
   "id": "8c2404c6-6060-4b78-b705-6fb86d242a7b",
   "metadata": {},
   "outputs": [],
   "source": [
    "v=visual.view_spectral(prod.raster.bands,reproject=True)"
   ]
  },
  {
   "cell_type": "code",
   "execution_count": null,
   "id": "467c7fba-d3c8-4a36-8bc8-8c1ea865d591",
   "metadata": {},
   "outputs": [],
   "source": [
    "v.title=\"## S2 L1C\"\n",
    "v.minmaxvalues=(0,0.3)\n",
    "v.minmax=[0,0.5]\n",
    "v.visu()"
   ]
  },
  {
   "cell_type": "code",
   "execution_count": null,
   "id": "904f3931-8b92-4b59-b6ea-b4d8448a7997",
   "metadata": {},
   "outputs": [],
   "source": [
    "geom_ = v.get_geom(v.aoi_stream,crs=prod.raster.rio.crs)\n",
    "\n",
    "raster_clipped = xr.Dataset()\n",
    "prod.raster.bands.rio.clip(geom_.geometry.values)\n",
    "for param in prod.raster.keys():\n",
    "    da = prod.raster[param]\n",
    "    if 'x' in da.dims and 'y' in da.dims:\n",
    "        raster_clipped[param]=da.rio.clip(geom_.geometry.values)\n",
    "    else:\n",
    "        raster_clipped[param]=da\n",
    "raster_clipped.attrs = prod.raster.attrs\n",
    "prod.raster = raster_clipped"
   ]
  },
  {
   "cell_type": "code",
   "execution_count": null,
   "id": "61cf4882-bb11-4702-8758-8ffdcea78429",
   "metadata": {},
   "outputs": [],
   "source": [
    "\n",
    "#%matplotlib ipympl\n",
    "import cartopy.crs as ccrs\n",
    "str_epsg = str(raster_clipped.rio.crs)\n",
    "zone = str_epsg[-2:]\n",
    "is_south = str_epsg[2] == 7\n",
    "proj = ccrs.UTM(zone, is_south)\n",
    "\n",
    "plt.figure(figsize=(15,15))\n",
    "raster_clipped.bands.sel(wl=[665,560,490]).plot.imshow(rgb='wl', robust=True,subplot_kws=dict(projection=proj))"
   ]
  },
  {
   "cell_type": "markdown",
   "id": "687e02c2-78b4-42f4-88d1-b357daafe8c8",
   "metadata": {},
   "source": [
    "## Start GRS processing"
   ]
  },
  {
   "cell_type": "markdown",
   "id": "e03e4aff-4314-4dca-a6a9-8f5e6974b4d5",
   "metadata": {},
   "source": [
    "If you want to process the whole tile comment the following line"
   ]
  },
  {
   "cell_type": "code",
   "execution_count": null,
   "id": "4188375c-1bef-4206-a3c5-02d155e3432e",
   "metadata": {},
   "outputs": [],
   "source": [
    "prod.raster = raster_clipped"
   ]
  },
  {
   "cell_type": "markdown",
   "id": "1987ce83-cd0d-431c-a34f-c7386e9ea229",
   "metadata": {},
   "source": [
    "Start by checking the CAMS data"
   ]
  },
  {
   "cell_type": "code",
   "execution_count": null,
   "id": "4cac0cde-43a0-4432-978a-1fcfaa627691",
   "metadata": {},
   "outputs": [],
   "source": [
    "##################################\n",
    "# GET ANCILLARY DATA (Pressure, O3, water vapor, NO2...\n",
    "##################################\n",
    "\n",
    "cams = cams_product(prod.raster, cams_file=cams_file)\n",
    "#cams.wls=[355,380,400,440,469,500, 550, 645,670,800, 865,1020, 1240,1640,2130]\n",
    "cams.load()"
   ]
  },
  {
   "cell_type": "code",
   "execution_count": null,
   "id": "281c89ed-3057-4778-85cc-cb121261b16d",
   "metadata": {},
   "outputs": [],
   "source": [
    "prod.date_str"
   ]
  },
  {
   "cell_type": "code",
   "execution_count": null,
   "id": "eb30599e-0d80-4ae9-81b6-a078f4df0023",
   "metadata": {},
   "outputs": [],
   "source": [
    "date = prod.date.strftime('%Y-%m-%d')\n",
    "cams_ = xr.open_dataset(cams_file, decode_cf=True,\n",
    "                               chunks={'time': 1, 'x': 500, 'y': 500})\n",
    "cams_ = cams_.sel(time=date)"
   ]
  },
  {
   "cell_type": "code",
   "execution_count": null,
   "id": "fcb02d44-4199-4e4a-accb-84e0f2729531",
   "metadata": {},
   "outputs": [],
   "source": [
    "self=prod\n",
    "xmin, ymin, xmax, ymax = prod.raster.rio.bounds()\n",
    "lonmin, latmin, lonmax, latmax = self.lonmin, self.latmin, self.lonmax, self.latmax\n",
    "\n",
    "cams_ = cams_.sel(latitude=slice(latmax + 1, latmin - 1))\n",
    "# check if image is on Greenwich meridian and adapt longitude convention\n",
    "if cams_.longitude.min()>=0:\n",
    "    if lonmin <= 0 and lonmax >= 0:\n",
    "\n",
    "            cams_ = cams_.assign_coords({\"longitude\": (((cams_.longitude + 180) % 360) - 180)}).sortby('longitude')\n",
    "    else:\n",
    "        # set longitude between 0 and 360 deg\n",
    "        lonmin, lonmax, = lonmin % 360, lonmax % 360\n",
    "\n",
    "# slicing\n",
    "cams_ = cams_.sel(longitude=slice(lonmin - 1, lonmax + 1)).compute()"
   ]
  },
  {
   "cell_type": "code",
   "execution_count": null,
   "id": "8a2e33a5-93a4-4c99-b70d-b4a6e7573288",
   "metadata": {},
   "outputs": [],
   "source": [
    "fig,axs = plt.subplots(1,2,figsize=(16,6),sharey=True,sharex=True)\n",
    "\n",
    "aod550.mean('time').plot.imshow(cmap=plt.cm.Spectral_r,robust=True,cbar_kwargs={'shrink':0.65},ax=axs[0])\n",
    "aod550.std('time').plot.imshow(cmap=plt.cm.Spectral_r,robust=True,cbar_kwargs={'shrink':0.65},ax=axs[1])\n"
   ]
  },
  {
   "cell_type": "code",
   "execution_count": null,
   "id": "25a02d9d-4dbb-4d8d-96d6-860dc398ffa5",
   "metadata": {},
   "outputs": [],
   "source": [
    "plt.figure(figsize=(15,15))\n",
    "fig,axs = plt.subplots(1,2,figsize=(16,6),sharey=True,sharex=True)\n",
    "aod550.sel(time='2022-06-12T06').plot.imshow(ax=axs[0],cmap=plt.cm.Spectral_r,vmin=0.28,vmax=0.51,cbar_kwargs={'shrink':0.65})\n",
    "aod550.sel(time='2022-06-12T12').plot.imshow(ax=axs[1],cmap=plt.cm.Spectral_r,vmin=0.28,vmax=0.51,cbar_kwargs={'shrink':0.65})"
   ]
  },
  {
   "cell_type": "code",
   "execution_count": null,
   "id": "73002038-3f5f-4531-9e8f-97206ced2b23",
   "metadata": {},
   "outputs": [],
   "source": [
    "plt.figure(figsize=(15,12))\n",
    "\n",
    "aod550.sel(time='2022-06-12').mean('time').plot.imshow(cmap=plt.cm.Spectral_r,vmin=0.28,vmax=0.51,cbar_kwargs={'shrink':0.65})\n"
   ]
  },
  {
   "cell_type": "code",
   "execution_count": null,
   "id": "b7b1bca7-c9fa-4f82-8e55-9d7e093e32d6",
   "metadata": {},
   "outputs": [],
   "source": [
    "params=['aod550','amaod550', 'bcaod550', 'duaod550', 'niaod550', 'omaod550', 'ssaod550', 'suaod550']\n",
    "Nrows = (len(params) + 4) // 4\n",
    "fig, axs = plt.subplots(Nrows, 4, figsize=(4 * 4.2, Nrows * 3.5))\n",
    "axs = axs.ravel()\n",
    "[axi.set_axis_off() for axi in axs]\n",
    "aod550 = cams.raster['aod550']\n",
    "aod550\n",
    "for i, param in enumerate(params):\n",
    "    if i == 0:\n",
    "        fig = cams.raster[param].plot.imshow(robust=True, ax=axs[i],cmap=plt.cm.Spectral_r)\n",
    "        fig.axes.set_title(param)\n",
    "    else:\n",
    "        fig = (cams.raster[param]/aod550).plot.imshow(robust=True, ax=axs[i],cmap=plt.cm.Spectral_r)\n",
    "        fig.axes.set_title('prop. of '+param)\n",
    "    #fig.colorbar.set_label(self.raster[param].units)\n",
    "    fig.axes.set(xticks=[], yticks=[])\n",
    "    fig.axes.set_ylabel('')\n",
    "    fig.axes.set_xlabel('')\n",
    "plt.tight_layout()"
   ]
  },
  {
   "cell_type": "code",
   "execution_count": null,
   "id": "37180425-0d0c-43b3-81ae-a101a676d43f",
   "metadata": {},
   "outputs": [],
   "source": [
    "#cams.plot_params(params=['aod550', 'aod2130', 'ssa550', 't2m', 'msl', 'sp','tcco', 'tchcho', 'tc_oh', 'tc_ch4', 'tcno2', 'gtco3', 'tc_c3h8', 'tcwv', 'u10', 'v10'], cmap=plt.cm.Spectral_r)\n",
    "#'ammonium_aerosol_optical_depth_550nm', 'black_carbon_aerosol_optical_depth_550nm',\n",
    "#                'dust_aerosol_optical_depth_550nm',\n",
    "#                'nitrate_aerosol_optical_depth_550nm', 'organic_matter_aerosol_optical_depth_550nm',\n",
    "#                'sea_salt_aerosol_optical_depth_550nm',\n",
    "#                'sulphate_aerosol_optical_depth_550nm',\n",
    "cams.plot_params(params=['v10','u10', 'msl', 'sp','t2m', 'tcco', 'tc_ch4', 'tcno2', 'gtco3', 'tcwv',\n",
    " 'amaod550', 'bcaod550', 'duaod550', 'niaod550', 'omaod550', 'ssaod550', 'suaod550',\n",
    " 'aod1240', 'aod469', 'aod550', 'aod670', 'aod865',\n",
    " \n",
    " ],\n",
    "\n",
    "\n",
    "                 cmap=plt.cm.Spectral_r)\n",
    "plt.show()"
   ]
  },
  {
   "cell_type": "code",
   "execution_count": null,
   "id": "9ea2245f-6781-4358-9d3a-34339dc2d198",
   "metadata": {},
   "outputs": [],
   "source": [
    "cams.raster"
   ]
  },
  {
   "cell_type": "code",
   "execution_count": null,
   "id": "d272eeea-9d74-4d3b-9b53-6b866fa47708",
   "metadata": {},
   "outputs": [],
   "source": [
    "cams.plot_params(params=['aod550', 'aod2130', 'ssa550',\n",
    "                                   't2m', 'msl', 'sp','tcco', 'tchcho',\n",
    "                                   'tc_oh', 'tc_ch4', 'tcno2', 'gtco3',\n",
    "                                   'tc_c3h8', 'tcwv', 'u10', 'v10'],\n",
    "                 cmap=plt.cm.Spectral_r)\n",
    "plt.show()"
   ]
  },
  {
   "cell_type": "markdown",
   "id": "e9f8412c-dc9d-4ba0-828b-5272eda0970c",
   "metadata": {},
   "source": [
    "You may also want to visualize the module wind speed or the mean square slope (sigma2 taken from the Cox Munk isotropic model)"
   ]
  },
  {
   "cell_type": "code",
   "execution_count": null,
   "id": "6d0dad29-0b5a-4092-811d-3f05d66e873d",
   "metadata": {},
   "outputs": [],
   "source": [
    "\n",
    "wind = np.sqrt(cams.raster['v10']**2+cams.raster['u10']**2)\n",
    "sigma2=(wind+0.586)/195.3\n",
    "\n",
    "fig,axs = plt.subplots(1,2,figsize=(15,6),sharey=True,sharex=True)\n",
    "wind.plot.imshow(ax=axs[0],cmap=plt.cm.Spectral_r)\n",
    "sigma2.plot.imshow(ax=axs[1],cmap=plt.cm.Spectral_r)"
   ]
  },
  {
   "cell_type": "markdown",
   "id": "497f9a83-a320-429c-8ed0-aa1daf6623e0",
   "metadata": {},
   "source": [
    "You can also plot a cams parameter as a new layer above the S2 RGB image"
   ]
  },
  {
   "cell_type": "code",
   "execution_count": null,
   "id": "7c3bf3d0-86cb-4ec1-8d63-9da84b99f7b1",
   "metadata": {},
   "outputs": [],
   "source": [
    "plt.figure(figsize=(15,15))\n",
    "\n",
    "prod.raster.bands.sel(wl=[665,560,490]).plot.imshow(rgb='wl', robust=True,subplot_kws=dict(projection=proj))\n",
    "wind.plot.imshow( cmap=plt.cm.Spectral_r,robust=True,alpha=0.5,subplot_kws=dict(projection=proj),cbar_kwargs={'shrink':0.35})"
   ]
  },
  {
   "cell_type": "markdown",
   "id": "1c6cd24f-8a27-4892-868a-b14d0e26d51a",
   "metadata": {},
   "source": [
    "Take the mean values for LUT selection and interpolation "
   ]
  },
  {
   "cell_type": "code",
   "execution_count": null,
   "id": "4cfd17dd-4003-4de2-8333-54e78951ffdd",
   "metadata": {},
   "outputs": [],
   "source": [
    "_sigma2 = sigma2.mean().values\n",
    "_wind = wind.mean().values\n",
    "print(_sigma2,_wind)"
   ]
  },
  {
   "cell_type": "markdown",
   "id": "9f928184-a679-437e-83f4-8fd584f2b662",
   "metadata": {},
   "source": [
    "Prepare spectral bands for further processing andload LUT"
   ]
  },
  {
   "cell_type": "code",
   "execution_count": null,
   "id": "c5e9f42f-5252-4c59-b0ff-fb32d6e2b975",
   "metadata": {},
   "outputs": [],
   "source": [
    "#####################################\n",
    "# SUBSET RASTER TO KEEP REQUESTED BANDS\n",
    "#####################################\n",
    "if prod.bcirrus:\n",
    "    prod.cirrus = prod.raster.bands.sel(wl=prod.bcirrus, method='nearest')\n",
    "if prod.bwv:\n",
    "    prod.wv = prod.raster.bands.sel(wl=prod.bwv, method='nearest')\n",
    "prod.raster = prod.raster.sel(wl=prod.wl_process, method='nearest')\n",
    "\n",
    "\n",
    "#####################################\n",
    "# LOAD LUT FOR ATMOSPHERIC CORRECTION\n",
    "#####################################\n",
    "#logging.info('loading lut...' + prod.lutfine)\n",
    "\n",
    "Ttot_Ed = xr.open_dataset(trans_lut_file)\n",
    "Ttot_Ed['wl'] = Ttot_Ed['wl'] * 1000\n",
    "\n",
    "aero_lut = xr.open_dataset(lut_file)\n",
    "aero_lut['wl']=aero_lut['wl']*1000\n",
    "aero_lut['aot'] = aero_lut.aot.isel(wind=0).squeeze()\n",
    "# remove URBAN aerosol model for this example.drop_sel(model='URBA_rh70')\n",
    "models=aero_lut.model.values\n",
    "#aero_lut\n",
    "wl_true = prod.raster.wl_true\n",
    "_auxdata = auxdata(wl=wl_true)#wl=masked.wl)\n",
    "sunglint_eps = _auxdata.sunglint_eps#['mean'].interp(wl=wl_true)\n",
    "rot = _auxdata.rot#.interp(wl=wl_true)"
   ]
  },
  {
   "cell_type": "markdown",
   "id": "ddf19fb2-6786-4cd6-818b-725e2a6ac587",
   "metadata": {},
   "source": [
    "## Set aerosol model from CAMS data"
   ]
  },
  {
   "cell_type": "markdown",
   "id": "1161e379-9300-45b6-9ab8-2f3925eb2860",
   "metadata": {},
   "source": [
    "Get spectral aerosol optical thickness from CAMS raster"
   ]
  },
  {
   "cell_type": "code",
   "execution_count": null,
   "id": "c465acdd-5b38-4379-8cad-47fa4fd4ea77",
   "metadata": {},
   "outputs": [],
   "source": [
    "cams_aot_mean = cams.cams_aod.mean(['x','y'])\n",
    "cams_aot_ref = cams.cams_aod.interp(wl=550,method='quadratic').compute()\n",
    "cams_aot_ref_mean =  cams_aot_ref.mean(['x','y'])\n"
   ]
  },
  {
   "cell_type": "markdown",
   "id": "c22ddbce-df37-490b-8183-b612285ab202",
   "metadata": {},
   "source": [
    "Check proximity with tabulated models (LUT) and select representative aerosol model"
   ]
  },
  {
   "cell_type": "code",
   "execution_count": null,
   "id": "8a926674-0d78-4f19-b5d5-17b65d33a424",
   "metadata": {},
   "outputs": [],
   "source": [
    "\n",
    "\n",
    "fig, axs = plt.subplots(1, 2, figsize=(18, 4.5))\n",
    "aero_lut.aot.sel(model=models,aot_ref=1).plot(ax=axs[0],hue='model')#,add_legend=False)\n",
    "(cams_aot_mean/cams_aot_ref_mean).plot(ax=axs[0],color='black')\n",
    "aero_lut.aot.isel(model=[4,2]).mean('model').sel(aot_ref=1).plot(ax=axs[0],color='grey')\n",
    "lut_aod=aero_lut.aot.sel(model=models,aot_ref=1).interp(wl=cams.cams_aod.wl)\n",
    "rank = np.abs((cams_aot_mean/cams_aot_ref_mean)-lut_aod).sum('wl') \n",
    "axs[1].bar(x=rank.model, height=rank.values)\n",
    "plt.xticks(rotation=30, ha='right')\n",
    "plt.show()\n",
    "\n",
    "idx = np.abs((cams_aot_mean/cams_aot_ref_mean)-lut_aod).sum('wl').argmin()\n",
    "opac_model = aero_lut.sel(model=models).model.values[idx]\n",
    "print(opac_model)"
   ]
  },
  {
   "cell_type": "markdown",
   "id": "19d41ec6-15ae-431f-ac03-1396d0690c18",
   "metadata": {},
   "source": [
    "#    absorbing gases correction\n"
   ]
  },
  {
   "cell_type": "code",
   "execution_count": null,
   "id": "4df7a278-2f08-4729-b24b-d7a5313e7c4d",
   "metadata": {},
   "outputs": [],
   "source": [
    "\n",
    "gas_trans = acutils.gaseous_transmittance(prod, cams)\n",
    "Tg_raster = gas_trans.get_gaseous_transmittance()\n",
    "#Tg_raster"
   ]
  },
  {
   "cell_type": "code",
   "execution_count": null,
   "id": "54f7c694-0486-4e3b-97cf-665ebafcd5db",
   "metadata": {},
   "outputs": [],
   "source": [
    "logging.info('correct for gaseous absorption')\n",
    "for wl in prod.raster.wl.values:\n",
    "    Tg_ = Tg_raster.sel(wl=wl).interp(x=prod.raster.x, y=prod.raster.y)\n",
    "    prod.raster['bands'].loc[wl] = prod.raster.bands.sel(wl=wl) / Tg_\n",
    "    del Tg_\n",
    "prod.raster.bands.attrs['gas_absorption_correction'] = True"
   ]
  },
  {
   "cell_type": "code",
   "execution_count": null,
   "id": "356c54f1-e772-4397-bd6a-4b9a72e31a09",
   "metadata": {},
   "outputs": [],
   "source": [
    "import gc\n",
    "gc.collect()"
   ]
  },
  {
   "cell_type": "markdown",
   "id": "c5874a7e-234e-4c7e-a7cc-6d773e4a01f6",
   "metadata": {},
   "source": [
    "You can check the gaseous transmittance for each spectral band"
   ]
  },
  {
   "cell_type": "code",
   "execution_count": null,
   "id": "6cf74533-f336-4ef8-9eb9-1584460ab6fe",
   "metadata": {},
   "outputs": [],
   "source": [
    "plt.figure()\n",
    "Tg_raster.mean('x').mean('y').plot()\n",
    "fig,axs = plt.subplots(3,4,figsize=(15,9),sharey=True,sharex=True)\n",
    "axs=axs.ravel()\n",
    "[axi.set_axis_off() for axi in axs]\n",
    "for iwl in range(len(prod.wl_process)):\n",
    "    #axs[iwl].set_axis_on()\n",
    "    Tg_raster.isel(wl=iwl).plot(ax=axs[iwl],cmap=plt.cm.Spectral_r)\n",
    "    axs[iwl].set_title( str(Tg_raster.isel(wl=iwl).wl.values))\n"
   ]
  },
  {
   "cell_type": "markdown",
   "id": "61c20791-25b2-4058-96ad-45f8343f43d3",
   "metadata": {},
   "source": [
    "# Water mask\n"
   ]
  },
  {
   "cell_type": "code",
   "execution_count": null,
   "id": "f0213560-989e-4750-b124-750794f6bae8",
   "metadata": {},
   "outputs": [],
   "source": [
    "# Compute NDWI\n",
    "\n",
    "#green = prod.raster.bands.sel(wl=565,method='nearest')\n",
    "#nir = prod.raster.bands.sel(wl=prod.b865)\n",
    "\n",
    "green = prod.raster.bands.sel(wl=prod.bvis,method='nearest')\n",
    "nir = prod.raster.bands.sel(wl=prod.bnir,method='nearest')#prod.b865)\n",
    "swir = prod.raster.bands.sel(wl=prod.bswir)\n",
    "b2200 = prod.raster.bands.sel(wl=prod.bswir2)\n",
    "\n",
    "ndwi = (green - nir) / (green + nir)\n",
    "ndwi_swir = (green - swir) / (green + swir)\n",
    "\n",
    "prod.raster['ndwi'] = ndwi\n",
    "prod.raster.ndwi.attrs = {\n",
    "'description': 'Normalized difference spectral index between bands at ' + str(prod.bvis) + ' and ' + str(\n",
    "    prod.bnir) + ' nm', 'units': '-'}\n",
    "prod.raster['ndwi_swir'] = ndwi_swir\n",
    "prod.raster.ndwi_swir.attrs = {\n",
    "'description': 'Normalized difference spectral index between bands at ' + str(prod.bvis) + ' and ' + str(\n",
    "    prod.bswir) + ' nm', 'units': '-'}"
   ]
  },
  {
   "cell_type": "code",
   "execution_count": null,
   "id": "e1f32f2a-c048-4342-a883-59851a244886",
   "metadata": {},
   "outputs": [],
   "source": [
    "fig = plt.figure(figsize=(25, 15))\n",
    "ax = plt.subplot(1, 2, 1, projection=proj)\n",
    "ndwi.plot.imshow(robust=True,subplot_kws=dict(projection=proj),cbar_kwargs={'shrink':0.35})#,vmin=-0.1,vmax=0.1,cmap=plt.cm.RdBu_r) \n",
    "ax = plt.subplot(1, 2, 2, projection=proj)\n",
    "ndwi_swir.plot.imshow(robust=True,subplot_kws=dict(projection=proj),cbar_kwargs={'shrink':0.35})#,vmin=-0.1,vmax=0.1,cmap=plt.cm.RdBu_r) "
   ]
  },
  {
   "cell_type": "code",
   "execution_count": null,
   "id": "03cac108-58c0-41a0-8e03-236027dea36b",
   "metadata": {},
   "outputs": [],
   "source": [
    "mask =  (ndwi_swir > 0) &  (b2200 < 0.2)#(ndwi > -0.0) &\n",
    "masked = prod.raster.bands.where(mask)\n",
    "\n",
    "from matplotlib.colors import ListedColormap\n",
    "# binary cmap\n",
    "bcmap = ListedColormap(['khaki', 'lightblue'])\n",
    "xmask = xr.where(mask,1,0)\n",
    "\n",
    "fig = plt.figure(figsize=(25, 15))\n",
    "ax = plt.subplot(1, 2, 1, projection=proj)\n",
    "xmask.plot.imshow(ax=ax,cmap=bcmap, cbar_kwargs={'ticks': [0, 1], 'shrink': 0.4})\n",
    "ax = plt.subplot(1, 2, 2, projection=proj)\n",
    "prod.raster['raa'].sel(wl=560).plot.imshow(cmap=plt.cm.Spectral_r, ax=ax, robust=True,cbar_kwargs={'shrink':0.4})\n",
    "masked.sel(wl=[665,560,490]).plot.imshow(rgb='wl', robust=True,ax=ax)\n"
   ]
  },
  {
   "cell_type": "code",
   "execution_count": null,
   "id": "8f295e1a-7d3f-488d-b1d3-e17d854758bb",
   "metadata": {},
   "outputs": [],
   "source": [
    "plt.figure(figsize=(15,15))\n",
    "(dem.shaded+1).plot.imshow(robust=True,subplot_kws=dict(projection=proj),cmap=plt.cm.Greys_r,cbar_kwargs={'shrink':0.4})\n",
    "masked.sel(wl=[665,560,490]).plot.imshow(rgb='wl', robust=True,subplot_kws=dict(projection=proj))"
   ]
  },
  {
   "cell_type": "markdown",
   "id": "4bb97a6e-ba09-438e-9e9b-3501c7db77e6",
   "metadata": {},
   "source": [
    "Check pressure"
   ]
  },
  {
   "cell_type": "code",
   "execution_count": null,
   "id": "ac6ed643-7436-413e-9e1b-60926be20e7e",
   "metadata": {},
   "outputs": [],
   "source": [
    "presure_msl = cams.raster.msl.interp(y=prod.raster.y,x=prod.raster.x)\n",
    "palt = presure_msl* (1. - 0.0065 * dem.elevation/ 288.15) ** 5.255"
   ]
  },
  {
   "cell_type": "code",
   "execution_count": null,
   "id": "afbe6f61-4238-45a2-8291-cdffd297486f",
   "metadata": {},
   "outputs": [],
   "source": [
    "plt.figure(figsize=(15,15))\n",
    "palt.plot.imshow(robust=True,subplot_kws=dict(projection=proj),cmap=plt.cm.Spectral_r,cbar_kwargs={'shrink':0.65})"
   ]
  },
  {
   "cell_type": "markdown",
   "id": "e32dba8f-f604-4fa8-b1a2-2b12d453cf3b",
   "metadata": {},
   "source": [
    "If you are happy with your mask you continue and proceed with masking, tweak the threshold values again, otherwise."
   ]
  },
  {
   "cell_type": "code",
   "execution_count": null,
   "id": "f1cb43db-2c47-42ae-aeeb-49b8ef38032b",
   "metadata": {},
   "outputs": [],
   "source": [
    "prod.raster['bands'] = masked\n",
    "prod.raster['sza'] =  prod.raster['sza'].where(mask)\n",
    "                                               "
   ]
  },
  {
   "cell_type": "markdown",
   "id": "c93a503b-5398-45af-964f-3abd9ee5c85c",
   "metadata": {},
   "source": [
    "Preparation of LUT and other input parameters"
   ]
  },
  {
   "cell_type": "code",
   "execution_count": null,
   "id": "781c7afd-f82b-408d-9177-1a527182518d",
   "metadata": {},
   "outputs": [],
   "source": [
    "aero_lut.model"
   ]
  },
  {
   "cell_type": "code",
   "execution_count": null,
   "id": "ff6aa321-fabe-49a3-8a44-29ab6c84b665",
   "metadata": {},
   "outputs": [],
   "source": [
    "models = ['ARCT_rh70', 'COAV_rh70', 'DESE_rh70', 'MACL_rh70', 'URBA_rh70']\n",
    "Nwl,height,width  = prod.raster.bands.shape\n",
    "chunk = 256\n",
    "pressure_ref=101500.\n",
    "\n",
    "cams_aot_ref = cams.cams_aod.interp(wl=550,method='quadratic').compute() #*0.7#.interp(x=prod.raster.x,y=prod.raster.y).compute()#.plot.imshow()\n",
    "aot_ref_raster = cams_aot_ref\n",
    "iwl_swir = [-2, -1]\n",
    "aero_lut_=aero_lut.sel(wind=_wind,method='nearest').sel(model=models[0])#.isel(model=[4,2]).mean('model') # #opac_model)"
   ]
  },
  {
   "cell_type": "code",
   "execution_count": null,
   "id": "0209ec2e-aa92-488f-839b-bd5628ae47ad",
   "metadata": {},
   "outputs": [],
   "source": [
    "aero_lut_"
   ]
  },
  {
   "cell_type": "code",
   "execution_count": null,
   "id": "3e89d002-e6bc-4bc1-aee7-5c7ea6909bd2",
   "metadata": {},
   "outputs": [],
   "source": [
    "ang_resol={'sza':0.1, 'vza':0.1, 'raa_round':0}\n",
    "szamin,szamax=float(prod.raster['sza'].min()),float(prod.raster['sza'].max())\n",
    "vzamin,vzamax=float(prod.raster['vza'].isel(wl=0).min()),float(prod.raster['vza'].isel(wl=0).max())\n",
    "# check for out-of-range\n",
    "def check_out_of_range(vmin,vmax,ceiling=88):\n",
    "    vmin = np.max([0,vmin])\n",
    "    vmax = np.min([ceiling,vmax])\n",
    "    return vmin,vmax\n",
    "szamin,szamax = check_out_of_range(szamin,szamax)\n",
    "vzamin,vzamax = check_out_of_range(vzamin,vzamax,ceiling=25)\n",
    "\n",
    "sza_ = np.arange(szamin,szamax+ang_resol['sza'],ang_resol['sza'])\n",
    "vza_ = np.arange(vzamin,vzamax+ang_resol['vza'],ang_resol['vza'])\n",
    "\n",
    "azi_=(180-np.unique(prod.raster['raa'].isel(wl=0).round(ang_resol['raa_round'])))%360\n",
    "azi_ = azi_[~np.isnan(azi_)]\n",
    "#azi_ = np.arange(0,361,1)\n",
    "print(szamin,szamax)\n",
    "print(vzamin,vzamax)\n",
    "print(azi_)"
   ]
  },
  {
   "cell_type": "code",
   "execution_count": null,
   "id": "23bc98b0-56b8-421d-9795-6b1c1753642a",
   "metadata": {},
   "outputs": [],
   "source": [
    "sza_lut_step=2\n",
    "vza_lut_step=2\n",
    "sza_slice=slice(np.min(sza_)-sza_lut_step,np.max(sza_)+sza_lut_step)\n",
    "vza_slice=slice(np.min(vza_)-vza_lut_step,np.max(vza_)+vza_lut_step)\n",
    "tweak=3\n",
    "aot_ref_ =np.unique((aot_ref_raster/tweak).round(3))*tweak\n",
    "aot_ref_min = aot_ref_raster.min()\n",
    "aot_ref_max = aot_ref_raster.max()\n",
    "aot_lut = aero_lut_.aot.interp(wl=wl_true,method='quadratic')\n",
    "aot_lut = aot_lut.interp(aot_ref=np.linspace(aot_ref_min,aot_ref_max,1000))#.plot(hue='wl')"
   ]
  },
  {
   "cell_type": "code",
   "execution_count": null,
   "id": "932cafea-a77b-4f10-90b4-29ec8dae3262",
   "metadata": {},
   "outputs": [],
   "source": [
    "Rdiff_lut = aero_lut_.I.sel(sza=sza_slice,vza=vza_slice).interp(wl=wl_true,method='quadratic').interp(azi=azi_)"
   ]
  },
  {
   "cell_type": "code",
   "execution_count": null,
   "id": "f880ddb3-fb96-4968-bd8f-20369194f551",
   "metadata": {},
   "outputs": [],
   "source": [
    "Rdiff_lut =  Rdiff_lut.interp(sza=sza_,vza=vza_)\n",
    "Rray =  Rdiff_lut.sel(aot_ref=0)\n",
    "Rdiff_lut = Rdiff_lut.interp(aot_ref=aot_ref_,method='quadratic')\n",
    "\n",
    "szas = Rdiff_lut.sza.values\n",
    "vzas = Rdiff_lut.vza.values\n",
    "azis = Rdiff_lut.azi.values\n",
    "aot_refs = Rdiff_lut.aot_ref.values"
   ]
  },
  {
   "cell_type": "code",
   "execution_count": null,
   "id": "e4fb20c0-39fc-41e3-b470-77600aecf608",
   "metadata": {},
   "outputs": [],
   "source": [
    "Ttot_Ed_ = Ttot_Ed.sel(model=opac_model).sel(wind=_wind, method='nearest').interp(sza=szas).interp(\n",
    "    aot_ref=aot_ref_, method='quadratic').interp(wl=wl_true, method='cubic').Ttot_Ed\n",
    "Ttot_Lu_ = Ttot_Ed.sel(model=opac_model).sel(wind=_wind, method='nearest').interp(sza=vzas).interp(\n",
    "    aot_ref=aot_ref_, method='quadratic').interp(wl=wl_true, method='cubic').Ttot_Ed ** 1.05\n",
    "\n",
    "_sunglint_eps=sunglint_eps.values\n",
    "# prepare aerosol parameters\n",
    "aot_ref_raster = cams_aot_ref.interp(x= prod.raster.x, y= prod.raster.y).drop('wl')\n",
    "aot_ref_raster.name='aot550'\n",
    "#_aot = aot_lut.interp(aot_ref=_aot_ref)\n",
    "#_pressure = cams.raster.sp.interp(x= prod.raster.x, y= prod.raster.y).values\n",
    "_pressure = palt.values\n",
    "_rot = rot.values"
   ]
  },
  {
   "cell_type": "markdown",
   "id": "ac20312f-8115-44ec-9d78-db82c7ef477b",
   "metadata": {},
   "source": [
    "### And finally run the GRS kernel !!!"
   ]
  },
  {
   "cell_type": "markdown",
   "id": "26ea755f-d68c-482b-99d7-ee0efa9ee6b9",
   "metadata": {},
   "source": [
    "Rrs_tmp = np.full((Nwl, height, width), np.nan, dtype=prod._type)\n",
    "Rf_tmp = np.full((height,width), np.nan, dtype=prod._type)\n",
    "for iy in range(0, height, chunk):\n",
    "    yc = min(height, iy + chunk)\n",
    "    \n",
    "    for ix in range(0, width, chunk):\n",
    "        xc = min(width, ix + chunk)\n",
    "       \n",
    "        _band_rad = prod.raster.bands[:, iy:yc, ix:xc]\n",
    "        \n",
    "        Nwl, Ny, Nx = _band_rad.shape\n",
    "        #if Ny == 0 or Nx == 0:\n",
    "        #    continue\n",
    "        arr_tmp = np.full((Nwl, Ny, Nx), np.nan, dtype=np.float32)\n",
    "        \n",
    "        # subsetting\n",
    "        _sza = prod.raster.sza[iy:yc, ix:xc]  # .values\n",
    "        _raa = prod.raster.raa[:, iy:yc, ix:xc]\n",
    "        _azi = (180. - _raa) % 360\n",
    "        _vza = prod.raster.vza[:, iy:yc, ix:xc]\n",
    "        _vza_mean = np.mean(_vza, axis=0).values\n",
    "        _air_mass_ = acutils.misc.air_mass(_sza, _vza).values  # air_mass[:, iy:yc,ix:xc] #air_mass(_sza,_vza).values #_p_slope = prod.raster.p_slope[:, iy:yc,ix:xc]\n",
    "        _p_slope_ = prod.p_slope(_sza, _vza, _raa, sigma2=_sigma2).values  # _p_slope[:, iy:yc,ix:xc]\n",
    "        _aot_ref = aot_ref_raster.values[iy:yc, ix:xc]\n",
    "        _pressure_ = _pressure[iy:yc, ix:xc] / pressure_ref           \n",
    "        \n",
    "        # get LUT values\n",
    "        _Rdiff = acutils._interp_Rlut(szas, _sza.values,\n",
    "                                  vzas, _vza.values,\n",
    "                                  azis, _azi.values,\n",
    "                                  aot_refs, _aot_ref,\n",
    "                                  Nwl, Ny, Nx, Rdiff_lut.values)\n",
    "        _Rray = acutils._interp_Rlut_rayleigh(szas, _sza.values,\n",
    "                                  vzas, _vza.values,\n",
    "                                  azis, _azi.values,\n",
    "                                  Nwl, Ny, Nx, Rray.values)\n",
    "        _Rdiff = _Rdiff + (_pressure_ - 1) *  _Rray \n",
    "       \n",
    "        _aot = acutils._interp_aotlut(aot_lut.aot_ref.values, _aot_ref, Nwl, Ny, Nx, aot_lut.values)\n",
    "        \n",
    "        #  correction for diffuse light\n",
    "        Rcorr = _band_rad.values - _Rdiff\n",
    "        \n",
    "         # construct wl,y,x raster for Rayleigh optical thickness\n",
    "        _rot_raster = acutils._multiplicate(_rot, _pressure_, arr_tmp)\n",
    "       \n",
    "        # direct transmittance up/down\n",
    "        Tdir = acutils.misc.transmittance_dir(_aot, _air_mass_, _rot_raster)\n",
    "\n",
    "        # vTotal transmittance (for Ed and Lu)\n",
    "        Tdown = acutils._interp_Tlut(szas, _sza.values, Ttot_Ed_.aot_ref.values, _aot_ref, Nwl, Ny, Nx,\n",
    "                                         Ttot_Ed_.values)\n",
    "        Tup = acutils._interp_Tlut(vzas, _vza_mean, Ttot_Ed_.aot_ref.values, _aot_ref, Nwl, Ny, Nx, Ttot_Lu_.values)\n",
    "        Ttot_du = Tdown * Tup\n",
    "        \n",
    "        Rf = np.full((len(iwl_swir), Ny, Nx), np.nan, dtype=np.float32)\n",
    "        \n",
    "        for iwl in iwl_swir:\n",
    "            Rf[iwl] = Rcorr[iwl] / (Tdir[iwl] * _sunglint_eps[iwl] * _p_slope_[iwl])\n",
    "        Rf[Rf<0]=0.\n",
    "        Rf = np.min(Rf, axis=0)\n",
    "        Rf_tmp[iy:yc, ix:xc] = Rf\n",
    "        \n",
    "        Rf = acutils._multiplicate(_sunglint_eps, Rf, arr_tmp)\n",
    "        Rf = Tdir * _p_slope_ * Rf\n",
    "        \n",
    "        Rrs_tmp[:, iy:yc, ix:xc] = ((Rcorr - Rf) / np.pi)/ Ttot_du\n",
    "print('success')"
   ]
  },
  {
   "cell_type": "markdown",
   "id": "a4c5ff2b-2bfe-4231-8f80-d210eeed8523",
   "metadata": {},
   "source": [
    "### If you have sufficient CPUs and memory, you try the parallelized multiprocessor method"
   ]
  },
  {
   "cell_type": "code",
   "execution_count": null,
   "id": "307516b8-9a79-411f-94a2-853c59c9601e",
   "metadata": {},
   "outputs": [],
   "source": [
    "from multiprocessing import Pool  # Process pool\n",
    "from multiprocessing import sharedctypes\n",
    "import itertools\n",
    "global chunk_process, pool\n",
    "pool = None\n",
    "type= np.float32\n",
    "Nproc=8\n",
    "Rrs_result = np.ctypeslib.as_ctypes(np.full((Nwl, height, width), np.nan, dtype=prod._type))\n",
    "Rf_result = np.ctypeslib.as_ctypes(np.full((height,width), np.nan, dtype=prod._type))\n",
    "shared_Rrs = sharedctypes.RawArray(Rrs_result._type_, Rrs_result)\n",
    "shared_Rf = sharedctypes.RawArray(Rf_result._type_, Rf_result)"
   ]
  },
  {
   "cell_type": "code",
   "execution_count": null,
   "id": "45482601-f2f5-466a-a33e-a9c2271abccc",
   "metadata": {},
   "outputs": [],
   "source": [
    "\n",
    "def chunk_process(args):\n",
    "    iy, ix = args\n",
    "    yc = min(height, iy + chunk)\n",
    "    xc = min(width, ix + chunk)\n",
    "    Rrs_tmp = np.ctypeslib.as_array(shared_Rrs)\n",
    "    Rf_tmp = np.ctypeslib.as_array(shared_Rf)\n",
    "    \n",
    "    _band_rad = prod.raster.bands[:, iy:yc, ix:xc]\n",
    "\n",
    "    Nwl, Ny, Nx = _band_rad.shape\n",
    "    if Ny == 0 or Nx == 0:\n",
    "        return\n",
    "    arr_tmp = np.full((Nwl, Ny, Nx), np.nan, dtype=np.float32)\n",
    "\n",
    "    # subsetting\n",
    "    _sza = prod.raster.sza[iy:yc, ix:xc]  # .values\n",
    "    _raa = prod.raster.raa[:, iy:yc, ix:xc]\n",
    "    _azi = (180. - _raa) % 360\n",
    "    _vza = prod.raster.vza[:, iy:yc, ix:xc]\n",
    "    _vza_mean = np.mean(_vza, axis=0).values\n",
    "    _air_mass_ = acutils.misc.air_mass(_sza, _vza).values  # air_mass[:, iy:yc,ix:xc] #air_mass(_sza,_vza).values #_p_slope = prod.raster.p_slope[:, iy:yc,ix:xc]\n",
    "    _p_slope_ = prod.p_slope(_sza, _vza, _raa, sigma2=_sigma2).values  # _p_slope[:, iy:yc,ix:xc]\n",
    "    _aot_ref = aot_ref_raster.values[iy:yc, ix:xc]\n",
    "    _pressure_ = _pressure[iy:yc, ix:xc] / pressure_ref\n",
    "\n",
    "    # construct wl,y,x raster for Rayleigh optical thickness\n",
    "    _rot_raster = acutils._multiplicate(_rot, _pressure_, arr_tmp)\n",
    "\n",
    "    # get LUT values\n",
    "    _Rdiff = acutils._interp_Rlut(szas, _sza.values,\n",
    "                                  vzas, _vza.values,\n",
    "                                  azis, _azi.values,\n",
    "                                  aot_refs, _aot_ref,\n",
    "                                  Nwl, Ny, Nx, Rdiff_lut.values)\n",
    "    \n",
    "    _Rray = acutils._interp_Rlut_rayleigh(szas, _sza.values,\n",
    "                                  vzas, _vza.values,\n",
    "                                  azis, _azi.values,\n",
    "                                  Nwl, Ny, Nx, Rray.values)\n",
    "    _Rdiff = _Rdiff + (_pressure_ - 1) *  _Rray \n",
    "       \n",
    "    \n",
    "    _aot = acutils._interp_aotlut(aot_lut.aot_ref.values, _aot_ref, Nwl, Ny, Nx, aot_lut.values)\n",
    "\n",
    "    #  correction for diffuse light\n",
    "    Rcorr = _band_rad.values - _Rdiff\n",
    "    \n",
    "    # direct transmittance up/down\n",
    "    Tdir = acutils.misc.transmittance_dir(_aot, _air_mass_, _rot_raster)\n",
    "\n",
    "    # vTotal transmittance (for Ed and Lu)\n",
    "    Tdown = acutils._interp_Tlut(szas, _sza.values, Ttot_Ed_.aot_ref.values, _aot_ref, Nwl, Ny, Nx,\n",
    "                                 Ttot_Ed_.values)\n",
    "    Tup = acutils._interp_Tlut(vzas, _vza_mean, Ttot_Ed_.aot_ref.values, _aot_ref, Nwl, Ny, Nx, Ttot_Lu_.values)\n",
    "    Ttot_du = Tdown * Tup\n",
    "\n",
    "    Rf = np.full((len(iwl_swir), Ny, Nx), np.nan, dtype=np.float32)\n",
    "\n",
    "    for iwl in iwl_swir:\n",
    "        Rf[iwl] = Rcorr[iwl] / (Tdir[iwl] * _sunglint_eps[iwl] * _p_slope_[iwl])\n",
    "    Rf[Rf<0]=0.\n",
    "    Rf = np.min(Rf, axis=0)\n",
    "    Rf_tmp[iy:yc, ix:xc] = Rf\n",
    "    \n",
    "    Rf = acutils._multiplicate(_sunglint_eps, Rf, arr_tmp)\n",
    "    Rf = Tdir * _p_slope_ * Rf\n",
    "        \n",
    "    Rrs_tmp[:, iy:yc, ix:xc] = ((Rcorr - Rf) / np.pi)/ Ttot_du\n",
    "    return\n",
    "\n",
    "window_idxs = [(i, j) for i, j in\n",
    "               itertools.product(range(0, height, chunk),\n",
    "                                 range(0, width, chunk))]\n",
    "\n",
    "pool = Pool(Nproc)\n",
    "global pool\n",
    "res = pool.map(chunk_process, window_idxs)\n",
    "pool.terminate()\n",
    "pool = None\n",
    "print('success')"
   ]
  },
  {
   "cell_type": "code",
   "execution_count": null,
   "id": "030e851b-437f-46b6-b741-9f17c42bd3e3",
   "metadata": {},
   "outputs": [],
   "source": [
    "xres = xr.Dataset(dict(Rrs=(['wl',\"y\", \"x\"],np.ctypeslib.as_array(shared_Rrs)),\n",
    "                       BRDFg= ([\"y\", \"x\"],np.ctypeslib.as_array(shared_Rf))),\n",
    "                  coords=dict(wl=prod.raster.wl,\n",
    "                              x=prod.raster.x,\n",
    "                              y=prod.raster.y),\n",
    "                              )\n",
    "\n",
    "l2_prod = xr.merge([aot_ref_raster.drop('time'), xres])\n",
    "l2a = l2a_product(prod, l2_prod, cams, gas_trans)"
   ]
  },
  {
   "cell_type": "code",
   "execution_count": null,
   "id": "a26370a9-c801-4561-b7d6-f2b78b8b7fd6",
   "metadata": {},
   "outputs": [],
   "source": [
    "vp=visual.view_param(l2a.l2_prod,reproject=True)"
   ]
  },
  {
   "cell_type": "code",
   "execution_count": null,
   "id": "02766b7e-4e2a-4927-b8e9-eccac3eff252",
   "metadata": {},
   "outputs": [],
   "source": [
    "vp.minmax=[0.,0.1]\n",
    "vp.visu()"
   ]
  },
  {
   "cell_type": "markdown",
   "id": "fc6528e7-77a1-4f98-b719-3f9988cbde6a",
   "metadata": {},
   "source": [
    "# L2A to L2B"
   ]
  },
  {
   "cell_type": "markdown",
   "id": "17fe53e9-e3a0-4d92-b340-415385e93bbd",
   "metadata": {},
   "source": [
    "### Mask bad quality pixels"
   ]
  },
  {
   "cell_type": "code",
   "execution_count": null,
   "id": "9290397f-e86c-4265-b20c-98025efa1a88",
   "metadata": {},
   "outputs": [],
   "source": [
    "Rrs_blue_avg=0.05\n",
    "Rrs = l2a.l2_prod.Rrs\n",
    "mask=xr.where((Rrs.sel(wl=490,method='nearest')<0)|(Rrs.sel(wl=565,method='nearest')<0),1,0)\n",
    "mask=mask.where((Rrs.sel(wl=443,method='nearest')<2*Rrs_blue_avg),2)\n",
    "mask=mask.where((Rrs.sel(wl=443,method='nearest')<3*Rrs_blue_avg),3)\n",
    "mask=mask.where((l2a.l2_prod.wv_band)<0.1,4)\n",
    "\n",
    "\n",
    "plt.figure(figsize=(15,15))\n",
    "\n",
    "mask.plot.imshow(cmap=plt.cm.Spectral_r,robust=True,subplot_kws=dict(projection=proj),cbar_kwargs={'shrink':0.35})\n"
   ]
  },
  {
   "cell_type": "markdown",
   "id": "afa12de5-348b-41cf-b9dc-68c2ac6903e6",
   "metadata": {},
   "source": [
    "Apply mask"
   ]
  },
  {
   "cell_type": "code",
   "execution_count": null,
   "id": "6dfe6078-d2b3-4c4e-a94b-5ae28e0f577e",
   "metadata": {},
   "outputs": [],
   "source": [
    "l2a.l2_prod['Rrs']=Rrs.where(mask==0)"
   ]
  },
  {
   "cell_type": "code",
   "execution_count": null,
   "id": "fdf9fe42-0609-4143-83d4-aa46345693ec",
   "metadata": {},
   "outputs": [],
   "source": [
    "plt.figure(figsize=(15,15))\n",
    "(dem.shaded+1).plot.imshow(robust=True,subplot_kws=dict(projection=proj),cmap=plt.cm.Greys_r,cbar_kwargs={'shrink':0.4})\n",
    "l2a.l2_prod.Rrs.sel(wl=[665,560,490]).plot.imshow(rgb='wl', robust=True,subplot_kws=dict(projection=proj))"
   ]
  },
  {
   "cell_type": "code",
   "execution_count": null,
   "id": "f87abacc-7cf8-4c0a-bc73-a23a9e2e515b",
   "metadata": {},
   "outputs": [],
   "source": []
  },
  {
   "cell_type": "markdown",
   "id": "1ca6f851-7d12-45f1-97ba-4e9e4832cb53",
   "metadata": {},
   "source": [
    "## Check Rrs spectra "
   ]
  },
  {
   "cell_type": "code",
   "execution_count": null,
   "id": "82492a9b-f448-40d0-a638-85a5eab9cb06",
   "metadata": {},
   "outputs": [],
   "source": [
    "v=visual.view_spectral(l2a.l2_prod.Rrs,reproject=True)"
   ]
  },
  {
   "cell_type": "code",
   "execution_count": null,
   "id": "0d771407-0c6c-48ee-95b2-733df9250570",
   "metadata": {},
   "outputs": [],
   "source": [
    "v.minmax=[0,0.1]\n",
    "v.visu()"
   ]
  },
  {
   "cell_type": "code",
   "execution_count": null,
   "id": "11c83668-472e-4399-b186-7b2882f85670",
   "metadata": {},
   "outputs": [],
   "source": [
    "l2a"
   ]
  },
  {
   "cell_type": "code",
   "execution_count": null,
   "id": "7d5d1951-af36-48e5-94ab-068645890032",
   "metadata": {},
   "outputs": [],
   "source": [
    "geom_ = v.get_geom(v.aoi_stream,crs=prod.raster.rio.crs)\n",
    "\n",
    "raster_clipped = xr.Dataset()\n",
    "l2a.l2_prod.rio.clip(geom_.geometry.values)\n",
    "for param in l2a.l2_prod.keys():\n",
    "    da = l2a.l2_prod[param]\n",
    "    if 'x' in da.dims and 'y' in da.dims:\n",
    "        raster_clipped[param]=da.rio.clip(geom_.geometry.values)\n",
    "    else:\n",
    "        raster_clipped[param]=da\n",
    "raster_clipped.attrs = prod.raster.attrs\n"
   ]
  },
  {
   "cell_type": "code",
   "execution_count": null,
   "id": "fb6d5e23-2cd3-4659-afaf-b8ad7316c4ae",
   "metadata": {},
   "outputs": [],
   "source": [
    "stacked = raster_clipped.Rrs.sel(wl=slice(400,1000)).stack(gridcell=[\"y\", \"x\"]).dropna('gridcell',thresh=0)\n"
   ]
  },
  {
   "cell_type": "code",
   "execution_count": null,
   "id": "e4b16e45-25b8-4e4a-b8fa-5de77343c42b",
   "metadata": {},
   "outputs": [],
   "source": [
    "group_coord ='wl'\n",
    "stat_coord='gridcell'\n",
    "stats = xr.Dataset({'median':stacked.groupby(group_coord).median(stat_coord)})\n",
    "stats['q25'] = stacked.groupby(group_coord).quantile(0.25,dim=stat_coord)\n",
    "stats['q75'] = stacked.groupby(group_coord).quantile(0.75,dim=stat_coord)\n",
    "stats['min'] = stacked.groupby(group_coord).min(stat_coord)\n",
    "stats['max'] = stacked.groupby(group_coord).max(stat_coord)\n",
    "stats['mean'] = stacked.groupby(group_coord).mean(stat_coord)\n",
    "stats['std'] = stacked.groupby(group_coord).std(stat_coord)\n",
    "stats['pix_num'] = stacked.count(stat_coord)"
   ]
  },
  {
   "cell_type": "code",
   "execution_count": null,
   "id": "6a8d3531-c9fb-470a-b7b4-c6863e10751f",
   "metadata": {},
   "outputs": [],
   "source": [
    "from mpl_toolkits.axes_grid1.inset_locator import inset_axes\n",
    "\n",
    "bands=[3,2,1]\n",
    "fig, axs = plt.subplots(1,1, figsize=(10, 6))#,sharey=True\n",
    "\n",
    "\n",
    "\n",
    "date = stats.time.dt.date.values\n",
    "axins = inset_axes(axs, width=\"45%\", height=\"60%\",\n",
    "               bbox_to_anchor=(.55, .4, 0.9, 0.9),\n",
    "               bbox_transform=axs.transAxes, loc=3)\n",
    "\n",
    "\n",
    "raster_clipped.Rrs.isel(wl=bands).plot.imshow(robust=True,ax=axins)\n",
    "axins.set_title('')\n",
    "axins.set_axis_off()\n",
    "axs.axhline(y=0,color='k',lw=1)\n",
    "axs.plot(stats.wl,stats['median'],c='k')\n",
    "axs.plot(stats.wl,stats['mean'],c='red',ls='--')\n",
    "axs.fill_between(stats.wl, stats['q25'], stats['q75'],alpha=0.3,color='grey')\n",
    "axs.set_title(date)\n",
    "plt.show()"
   ]
  },
  {
   "cell_type": "markdown",
   "id": "ad120921-3d22-4791-9c1b-91cc0b366249",
   "metadata": {},
   "source": [
    "## Check water quality parameters (e.g., Chl-a concentration from diverse \"algorithms\")¶\n"
   ]
  },
  {
   "cell_type": "markdown",
   "id": "b778c04c-4314-47c0-a5be-d525d46955eb",
   "metadata": {},
   "source": [
    "### Check Optical Water Types (OWT)"
   ]
  },
  {
   "cell_type": "code",
   "execution_count": null,
   "id": "9b1c58ba-65d7-4eb1-bcbe-f095bc710c21",
   "metadata": {},
   "outputs": [],
   "source": [
    "owt_file = '/DATA/projet/vrac/owt/Spyrakos_et_al_2018_OWT_inland_mean_standardised.csv'\n",
    "owt =pd.read_csv(owt_file,index_col=0).stack().to_xarray()\n",
    "owt = owt.rename({'level_1':'wl'})\n",
    "owt['wl']=owt.wl.astype(float)\n"
   ]
  },
  {
   "cell_type": "code",
   "execution_count": null,
   "id": "5868353c-f211-4ae9-a27f-0cdb192f6dd2",
   "metadata": {},
   "outputs": [],
   "source": [
    "import matplotlib.patches as mpatches\n",
    "\n",
    "owt_info={\n",
    "        1:dict(color='olivedrab',label='OWT1: Hypereutrophic waters'),\n",
    "        2:dict(color='black',label='OWT2: Common case waters'),\n",
    "        3:dict(color='cadetblue',label='OWT3: Clear waters'),\n",
    "        4:dict(color='tan',label='OWT4: Turbid waters with organic content'),\n",
    "        5:dict(color='chocolate',label='OWT5: Sediment-laden waters'),\n",
    "        6:dict(color='teal',label='OWT6: Balanced optical effects at shorter wavelengths'),\n",
    "        7:dict(color='blueviolet',label='OWT7: Highly productive cyanobacteria-dominated waters'),\n",
    "        8:dict(color='plum',label='OWT8: Productive with cyanobacteria waters'),\n",
    "        9:dict(color='red',label='OWT9: OWT2 with higher $R_{rs}$ at shorter wavelengths'),#'slategrey'\n",
    "        10:dict(color='orange',label='OWT10: CDOM-rich waters'),\n",
    "        11:dict(color='gold',label='OWT11: CDOM-rich with cyanobacteria waters'),\n",
    "        12:dict(color='firebrick',label='OWT12: Turbid waters with cyanobacteria'),\n",
    "        13:dict(color='mediumblue',label='OWT13: Very clear blue waters'),\n",
    "        }\n",
    "colors = ['olivedrab','black','cadetblue','tan','chocolate','teal','blueviolet','plum','red','orange','gold','firebrick','mediumblue']\n",
    "cmap_owt = mpl.colors.ListedColormap(colors)\n",
    "\n",
    "patch = []\n",
    "for key,info in owt_info.items():\n",
    "    patch.append(mpatches.Patch(color=info['color'], label=info['label']))\n",
    "\n",
    "fig, ax = plt.subplots(nrows=1,ncols=1, sharex=True,figsize=(9, 6))\n",
    "ax.minorticks_on()\n",
    "for iowt,group in owt.groupby('owt'):\n",
    "    \n",
    "    group.plot(color=owt_info[iowt]['color'],lw=3)\n",
    "ax.set_title('' )\n",
    "ax.set_ylabel('$Standardized\\ R_{rs}\\ (nm^{-1})$',fontsize=20)\n",
    "ax.set_xlabel('$Wavelength\\ (nm)$',fontsize=20)    \n",
    "plt.legend(handles=patch,fontsize=13,bbox_to_anchor=(1, .5, 0.5, 0.5))"
   ]
  },
  {
   "cell_type": "code",
   "execution_count": null,
   "id": "2f393f73-fcbb-448b-aa51-7812584add78",
   "metadata": {},
   "outputs": [],
   "source": [
    "def SAM(R1,R2):\n",
    "    denum=(R1*R2).sum('wl')\n",
    "    denom = (R1**2).sum('wl')**0.5 * (R2**2).sum('wl')**0.5\n",
    "    return np.arccos(denum/denom)\n",
    "\n",
    "def SCS(R1,R2):\n",
    "    R1_avg = R1.mean('wl')\n",
    "    R2_avg = R2.mean('wl')\n",
    "    R1_std = R1.std('wl')\n",
    "    R2_std = R2.std('wl')\n",
    "    Nwl = len(R1.wl)\n",
    "    return 1/(Nwl) * ((R1-R1_avg) * (R2-R2_avg)).sum('wl') / (R1_std*R2_std)\n",
    "\n",
    "\n",
    "Rrs_sat = l2a.l2_prod.Rrs.sel(wl=slice(350,800))#.dropna('wl')\n",
    "\n",
    "Rrs_owt = owt.interp(wl=Rrs_sat.wl)\n",
    "\n",
    "owt_sam = SAM(Rrs_sat,Rrs_owt)\n",
    "owt_scs =SCS(Rrs_sat,Rrs_owt)\n",
    "\n",
    "owt_delta = owt_scs + (1-2*owt_sam/np.pi)/2"
   ]
  },
  {
   "cell_type": "code",
   "execution_count": null,
   "id": "0f4560a1-811f-41ba-8340-4ee6b1432e28",
   "metadata": {},
   "outputs": [],
   "source": [
    "fig = plt.figure(figsize=(25, 15))\n",
    "ax = plt.subplot(1, 2, 1, projection=proj)\n",
    "\n",
    "cmap = plt.get_cmap('tab20c',13)\n",
    "(owt_delta.fillna(-1).argmax('owt')+1).where(Rrs_sat.isel(wl=1)>0).plot.imshow(vmin=0.5,vmax=13.5,cmap=cmap_owt,cbar_kwargs={ 'ticks':range(1,14),'shrink': 0.4},ax=ax)\n",
    "ax = plt.subplot(1, 2, 2, projection=proj)\n",
    "cmap = plt.get_cmap('RdBu')#,13)\n",
    "(owt_delta.max('owt')).where(Rrs_sat.isel(wl=1)>0).plot.imshow(robust=True,cmap=cmap,ax=ax, cbar_kwargs={ 'shrink': 0.4})"
   ]
  },
  {
   "cell_type": "markdown",
   "id": "0c7509d5-49fe-45b8-8fc4-55c975e58231",
   "metadata": {},
   "source": [
    "### Total suspended particulate matter (SPM) from Nechad et al., 2010, 2016 formulation\n",
    "### spm in mg/L"
   ]
  },
  {
   "cell_type": "code",
   "execution_count": null,
   "id": "f70a520c-1c7d-4104-a7c9-afd68d937d43",
   "metadata": {},
   "outputs": [],
   "source": [
    "a = [760, 1.3]\n",
    "ratio = Rrs.sel(wl=865,method='nearest')/Rrs.sel(wl=565,method='nearest')\n",
    "spm = a[0] * np.exp(a[1]*ratio)\n",
    "spm.name='SPM_EA_BR'\n",
    "spm.attrs['units']='mg/L'\n",
    "spm.attrs['description']='Concentration of suspended particulate matter from band ratio 865 over 565 nm'\n",
    "#spm= spm.where((spm >= 0) & (spm <= 50000))\n",
    "a = [1.378, 4.246]\n",
    "ratio = Rrs.sel(wl=705,method='nearest')/Rrs.sel(wl=565,method='nearest')\n",
    "spm2 = a[0] * np.exp(a[1]*ratio)\n",
    "spm2.name='SPM_EA_BR'\n",
    "spm2.attrs['units']='mg/L'\n",
    "spm2.attrs['description']='Concentration of suspended particulate matter from band ratio 705 over 565 nm'\n",
    "\n",
    "a = [6.384, 3.215,-57.7]\n",
    "ratio = Rrs.sel(wl=705,method='nearest')/Rrs.sel(wl=565,method='nearest')\n",
    "spm3 = a[0] * np.exp(a[1]*ratio)+a[2]\n",
    "spm3.name='SPM_EA_BR'\n",
    "spm3.attrs['units']='mg/L'\n",
    "spm3.attrs['description']='Concentration of suspended particulate matter from band ratio 705 over 565 nm'\n",
    "\n",
    "#spm= spm.where((spm >= 0) & (spm <= 50000))\n",
    "_spm = 42.03* (Rrs.isel(wl=2)-Rrs.isel(wl=5))**.7+0.41\n",
    "_spm.name='SPM_P2023'"
   ]
  },
  {
   "cell_type": "code",
   "execution_count": null,
   "id": "6aee7853-d542-4d75-8b64-5fa2aff5d2fb",
   "metadata": {},
   "outputs": [],
   "source": [
    "plt.figure(figsize=(25,18))\n",
    "colors = ['mediumblue','cadetblue','teal','gold','orange','chocolate','firebrick']\n",
    "cmap = mpl.colors.LinearSegmentedColormap.from_list('spm',colors)\n",
    "fig = plt.figure(figsize=(25, 15))\n",
    "ax = plt.subplot(1, 3, 1, projection=proj)\n",
    "spm.plot.imshow(cmap=cmap,ax=ax,robust=True,cbar_kwargs={'shrink':0.25})\n",
    "ax.set_title('760 exp(1.3 ratio(865/565)), from Han et al., 2016')\n",
    "ax = plt.subplot(1, 3,2, projection=proj)\n",
    "spm2.plot.imshow(cmap=cmap,ax=ax,robust=True,cbar_kwargs={'shrink':0.25})\n",
    "ax.set_title(' 1.378 exp(4.246 ratio(705/565)), from in situ data')\n",
    "ax = plt.subplot(1, 3,3, projection=proj)\n",
    "spm3.plot.imshow(cmap=cmap,ax=ax,robust=True,cbar_kwargs={'shrink':0.25})\n",
    "ax.set_title(' 6.384 exp(3.215 ratio(705/565)) -57.7, from in situ data')"
   ]
  },
  {
   "cell_type": "code",
   "execution_count": null,
   "id": "44438004-6941-4234-b996-0050fe04fb27",
   "metadata": {},
   "outputs": [],
   "source": [
    "a = [610.94*np.pi, 0.2324/np.pi]\n",
    "Rrs_ = Rrs.isel(wl=3)\n",
    "spm = a[0] * Rrs_ / (1 - ( Rrs_/ a[1]))\n",
    "spm.name='SPM_N2016'\n",
    "spm.attrs['units']='mg/L'\n",
    "spm.attrs['description']='Concentration of suspended particulate matter from band 665 nm'\n",
    "\n",
    "a = [428.277*np.pi, 0.3051/np.pi]\n",
    "Rrs_ = Rrs.isel(wl=3)\n",
    "spm2 = a[0] * Rrs_ / (1 - ( Rrs_/ a[1]))\n",
    "spm2.name='SPM_N2016_han1'\n",
    "spm2.attrs['units']='mg/L'\n",
    "spm2.attrs['description']='Concentration of suspended particulate matter from band 665 nm'\n",
    "\n",
    "\n",
    "a = [1444.853*np.pi, 0.3539/np.pi]\n",
    "Rrs_ = Rrs.isel(wl=3)\n",
    "spm3 = a[0] * Rrs_ / (1 - ( Rrs_/ a[1]))\n",
    "spm3.name='SPM_N2016_han2'\n",
    "spm3.attrs['units']='mg/L'\n",
    "spm3.attrs['description']='Concentration of suspended particulate matter from band 665 nm'\n"
   ]
  },
  {
   "cell_type": "code",
   "execution_count": null,
   "id": "00de7104-5336-41ef-9949-084cb6d1473f",
   "metadata": {},
   "outputs": [],
   "source": [
    "plt.figure(figsize=(25,18))\n",
    "colors = ['mediumblue','cadetblue','teal','gold','orange','chocolate','firebrick']\n",
    "cmap = mpl.colors.LinearSegmentedColormap.from_list('spm',colors)\n",
    "fig = plt.figure(figsize=(25, 15))\n",
    "ax = plt.subplot(1, 3, 1, projection=proj)\n",
    "spm.plot.imshow(cmap=cmap,ax=ax,robust=True,cbar_kwargs={'shrink':0.25})\n",
    "ax.set_title('Nechad et al., 2016')\n",
    "ax = plt.subplot(1, 3,2, projection=proj)\n",
    "spm2.plot.imshow(cmap=cmap,ax=ax,robust=True,cbar_kwargs={'shrink':0.25})\n",
    "ax.set_title(' Nechad_Han SAA')\n",
    "ax = plt.subplot(1, 3,3, projection=proj)\n",
    "spm3.plot.imshow(cmap=cmap,ax=ax,robust=True,cbar_kwargs={'shrink':0.25})\n",
    "ax.set_title('Nechad_HAN SAA-H')"
   ]
  },
  {
   "cell_type": "markdown",
   "id": "dde9afc8-af54-4798-b210-d5ec93e574e4",
   "metadata": {},
   "source": [
    "### Check blue over green ratio for Chl retrieval with OC2 from NASA\n",
    "$log_{10}(chlor\\_a) = a_0 + \\sum\\limits_{i=1}^4 a_i \\left(log_{10}\\left(\\frac{R_{rs}(\\lambda_{blue})}{R_{rs}(\\lambda_{green})}\\right)\\right)^i$"
   ]
  },
  {
   "cell_type": "code",
   "execution_count": null,
   "id": "af751c82-0594-48d3-9234-dacd5b54191b",
   "metadata": {},
   "outputs": [],
   "source": [
    "Rrs = l2a.l2_prod.Rrs"
   ]
  },
  {
   "cell_type": "code",
   "execution_count": null,
   "id": "c109f6b2-671d-4297-8040-75168e5c54e9",
   "metadata": {},
   "outputs": [],
   "source": [
    "\n",
    "# NASA OC2 fro MODIS; bands 488, 547 nm\n",
    "a = [0.2500,-2.4752,1.4061,-2.8233,0.5405]\n",
    "# NASA OC2 for OCTS; bands 490, 565 nm\n",
    "a = [0.2236,-1.8296,1.9094,-2.9481,-0.1718]\n",
    "# Pelevin et al, 2023, Issyk-Kul\n",
    "a = [0.1977,-1.8117,1.9742,-2.5635,-0.7218]\n",
    "ratio = np.log10(Rrs.isel(wl=1)/Rrs.isel(wl=2))\n",
    "logchl=0\n",
    "for i in range(len(a)):\n",
    "    logchl+=a[i]*ratio**i\n",
    "_chl = 10**(logchl)\n",
    "_chl.name='Chla_OC2_P2023'\n",
    "_chl.attrs['units']='mg.m-3'\n",
    "_chl.attrs['description']= 'Chl-a concentration from NASA OC2 with OCTS parameterization, bands 490, 565 nm',\n",
    "_chl = _chl.where((_chl >= 0) & (_chl <= 2000))\n"
   ]
  },
  {
   "cell_type": "code",
   "execution_count": null,
   "id": "10ae81d0-c185-4c89-9fea-d1fdd04bc3f8",
   "metadata": {},
   "outputs": [],
   "source": [
    "plt.figure(figsize=(15,15))\n",
    "import colorcet as cc\n",
    "_chl.plot.imshow(cmap=cc.cm.CET_D13,robust=True,subplot_kws=dict(projection=proj),cbar_kwargs={'shrink':0.35},vmax=10)"
   ]
  },
  {
   "cell_type": "markdown",
   "id": "963c40f3-9a2f-4967-be48-49c3a02408af",
   "metadata": {},
   "source": [
    "### CDOM retrieval based on Brezonik et al, 2015"
   ]
  },
  {
   "cell_type": "code",
   "execution_count": null,
   "id": "df4ea1b2-b2c9-406a-a2ba-048c9b302127",
   "metadata": {},
   "outputs": [],
   "source": [
    "a = [1.872,-0.83]\n",
    "acdom = np.exp(a[0] + a[1] * np.log(Rrs.isel(wl=1)/Rrs.isel(wl=5)))\n",
    "acdom.name='a_cdom_b2015'\n",
    "acdom.attrs['units']='m-1'\n",
    "acdom.attrs['description']='CDOM absorption at 440 nm-1'\n",
    "acdom= acdom.where((acdom >= 0) & (acdom <= 60))\n"
   ]
  },
  {
   "cell_type": "code",
   "execution_count": null,
   "id": "e251aa91-ef43-4091-a842-178beca3192d",
   "metadata": {},
   "outputs": [],
   "source": [
    "plt.figure(figsize=(15,15))\n",
    "\n",
    "acdom.plot.imshow(cmap=cc.cm.CET_CBD1,robust=True,subplot_kws=dict(projection=proj),cbar_kwargs={'shrink':0.35},vmax=20)"
   ]
  },
  {
   "cell_type": "code",
   "execution_count": null,
   "id": "346914b1-6150-4934-ba33-759a9342a48a",
   "metadata": {},
   "outputs": [],
   "source": [
    "def cPOC_2(Rrs,p=[2.873,0.945,0.025]):\n",
    "    ratio1=Rrs.sel(wl=665,method='nearest') / Rrs.sel(wl=490,method='nearest') \n",
    "    ratio2=Rrs.sel(wl=665,method='nearest') / Rrs.sel(wl=565,method='nearest') \n",
    "    ratio = np.log10(xr.concat([ratio1.assign_coords({'num':1}),ratio1.assign_coords({'num':2})],dim='num').max('num'))\n",
    "    \n",
    "    Xpoc = p[0]+p[1]*ratio+p[2]*ratio**2\n",
    "    return 10**Xpoc\n",
    "\n",
    "poc = cPOC_2(Rrs)\n",
    "poc.name = 'cPOC_2'"
   ]
  },
  {
   "cell_type": "code",
   "execution_count": null,
   "id": "fad9f621-7df1-42d1-8dd1-bddd9618001c",
   "metadata": {},
   "outputs": [],
   "source": [
    "plt.figure(figsize=(15,15))\n",
    "\n",
    "poc.plot.imshow(cmap=cc.cm.blues,robust=True,subplot_kws=dict(projection=proj),cbar_kwargs={'shrink':0.35})"
   ]
  },
  {
   "cell_type": "code",
   "execution_count": null,
   "id": "ceac2c2a-515e-45e2-a851-92f7feb1e84b",
   "metadata": {},
   "outputs": [],
   "source": [
    "from obs2co_l2bgen import chl, spm,cdom,transparency\n",
    "\n",
    "\n",
    "l2a=xr.Dataset({'Rrs':Rrs})\n",
    "chl_prod= chl(l2a)\n",
    "chl_prod.process()\n",
    "\n",
    "# ----------------------\n",
    "# get SPM parameters\n",
    "# ----------------------\n",
    "\n",
    "spm_prod= spm(l2a)\n",
    "spm_prod.process()\n",
    "\n",
    "# ----------------------\n",
    "# get CDOM parameters\n",
    "# ----------------------\n",
    "\n",
    "cdom_prod= cdom(l2a)\n",
    "cdom_prod.process()\n",
    "\n",
    "\n",
    "# ----------------------\n",
    "# get transparency parameters\n",
    "# ----------------------\n",
    "\n",
    "trans_prod= transparency(l2a)\n",
    "trans_prod.process()\n",
    "\n",
    "# ----------------------\n",
    "# possibity to test other retrievals\n",
    "# ----------------------\n",
    "def cPOC_2(Rrs,p=[2.873,0.945,0.025]):\n",
    "    ''' Ref: Tran, T.K.; Duforêt-Gaurier, L.; Vantrepotte, V.; Jorge, D.S.F.; Mériaux, X.; Cauvin, A.; Fanton d’Andon, O.; Loisel, H.\n",
    "    Deriving Particulate Organic Carbon in Coastal Waters from Remote Sensing: Inter-Comparison Exercise \n",
    "    and Development of a Maximum Band-Ratio Approach. Remote Sens. 2019, 11, 2849. https://doi.org/10.3390/rs11232849 '''\n",
    "    \n",
    "    ratio1=Rrs.sel(wl=665,method='nearest') / Rrs.sel(wl=490,method='nearest') \n",
    "    ratio2=Rrs.sel(wl=665,method='nearest') / Rrs.sel(wl=565,method='nearest') \n",
    "    ratio = np.log10(xr.concat([ratio1.assign_coords({'num':1}),ratio1.assign_coords({'num':2})],dim='num').max('num'))\n",
    "    \n",
    "    Xpoc = p[0]+p[1]*ratio+p[2]*ratio**2\n",
    "    return 10**Xpoc\n",
    "\n",
    "poc = cPOC_2(Rrs)\n",
    "poc.name = 'cPOC_2'\n",
    "\n",
    "\n",
    "\n",
    "# ----------------------\n",
    "# Merge parameters into xr.Dataset\n",
    "# ----------------------\n",
    "l2b = xr.merge([chl_prod.output,spm_prod.output,cdom_prod.output,trans_prod.output,poc,_chl,_spm])\n",
    "\n"
   ]
  },
  {
   "cell_type": "code",
   "execution_count": null,
   "id": "c8515961-b949-4d42-bd55-de3388f135e6",
   "metadata": {},
   "outputs": [],
   "source": [
    "l2b.to_netcdf('/DATA/vrac/test_l2b.nc')"
   ]
  },
  {
   "cell_type": "code",
   "execution_count": null,
   "id": "9a5697ce-acac-4824-a7af-b9db5a230c40",
   "metadata": {},
   "outputs": [],
   "source": [
    "import xarray as xr\n",
    "\n",
    "import grstbx\n",
    "from grstbx import visual\n"
   ]
  },
  {
   "cell_type": "code",
   "execution_count": null,
   "id": "5d245982-36c5-4cf5-8e02-a7d4de6dd78c",
   "metadata": {},
   "outputs": [],
   "source": [
    "#l2b = xr.open_dataset('/DATA/vrac/test_l2b.nc')\n",
    "\n",
    "vp=visual.view_param(l2b,reproject=True)\n"
   ]
  },
  {
   "cell_type": "code",
   "execution_count": null,
   "id": "de849907-0783-497e-bb3d-133e9d6b937d",
   "metadata": {},
   "outputs": [],
   "source": [
    "vp.minmax=[0,400]\n",
    "vp.visu()"
   ]
  },
  {
   "cell_type": "code",
   "execution_count": null,
   "id": "760b28a2-e46a-4e64-bc37-a53cff5ef385",
   "metadata": {},
   "outputs": [],
   "source": []
  }
 ],
 "metadata": {
  "kernelspec": {
   "display_name": "grstbx",
   "language": "python",
   "name": "grstbx"
  },
  "language_info": {
   "codemirror_mode": {
    "name": "ipython",
    "version": 3
   },
   "file_extension": ".py",
   "mimetype": "text/x-python",
   "name": "python",
   "nbconvert_exporter": "python",
   "pygments_lexer": "ipython3",
   "version": "3.9.15"
  }
 },
 "nbformat": 4,
 "nbformat_minor": 5
}
