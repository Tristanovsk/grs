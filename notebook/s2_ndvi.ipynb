{
 "cells": [
  {
   "cell_type": "code",
   "execution_count": 1,
   "id": "2d65ffd3",
   "metadata": {},
   "outputs": [],
   "source": [
    "import glob\n",
    "import numpy as np\n",
    "from osgeo import gdal\n"
   ]
  },
  {
   "cell_type": "code",
   "execution_count": 10,
   "id": "09e3e235",
   "metadata": {},
   "outputs": [
    {
     "name": "stdout",
     "output_type": "stream",
     "text": [
      "['/datalake/S2-L1C/31TFJ/2021/09/01/S2B_MSIL1C_20210901T102559_N0301_R108_T31TFJ_20210901T123557.SAFE/GRANULE/L1C_T31TFJ_A023443_20210901T103314/IMG_DATA/T31TFJ_20210901T102559_B04.jp2']\n"
     ]
    }
   ],
   "source": [
    "in_dir = '/datalake/S2-L1C/31TFJ/2021/09/01/S2B_MSIL1C_20210901T102559_N0301_R108_T31TFJ_20210901T123557.SAFE'\n",
    "\n",
    "# Search directory for desired bands\n",
    "imgdir='/GRANULE/*/IM*/*'\n",
    "red_file = glob.glob(in_dir + imgdir+'B04.jp2') # red band\n",
    "nir_file = glob.glob(in_dir + imgdir+'B08.jp2') # nir band\n",
    "print(red_file)"
   ]
  },
  {
   "cell_type": "code",
   "execution_count": 11,
   "id": "d3857fec",
   "metadata": {},
   "outputs": [],
   "source": [
    "# Define a function to calculate NDVI using band arrays for red, NIR bands\n",
    "def ndvi(red, nir):\n",
    " return ((nir - red)/(nir + red))\n",
    "\n",
    "# Open each band using gdal\n",
    "red_link = gdal.Open(red_file[0])\n",
    "nir_link = gdal.Open(nir_file[0])"
   ]
  },
  {
   "cell_type": "code",
   "execution_count": 12,
   "id": "46c570a5",
   "metadata": {},
   "outputs": [
    {
     "name": "stderr",
     "output_type": "stream",
     "text": [
      "/tmp/pbs.22252899.admin01/ipykernel_4870/1372501167.py:2: DeprecationWarning: `np.float` is a deprecated alias for the builtin `float`. To silence this warning, use `float` by itself. Doing this will not modify any behavior and is safe. If you specifically wanted the numpy scalar type, use `np.float64` here.\n",
      "Deprecated in NumPy 1.20; for more details and guidance: https://numpy.org/devdocs/release/1.20.0-notes.html#deprecations\n",
      "  red = red_link.ReadAsArray().astype(np.float)\n",
      "/tmp/pbs.22252899.admin01/ipykernel_4870/1372501167.py:3: DeprecationWarning: `np.float` is a deprecated alias for the builtin `float`. To silence this warning, use `float` by itself. Doing this will not modify any behavior and is safe. If you specifically wanted the numpy scalar type, use `np.float64` here.\n",
      "Deprecated in NumPy 1.20; for more details and guidance: https://numpy.org/devdocs/release/1.20.0-notes.html#deprecations\n",
      "  nir = nir_link.ReadAsArray().astype(np.float)\n"
     ]
    },
    {
     "data": {
      "text/plain": [
       "array([[   0.,    0.,    0., ..., 1377., 1390., 1368.],\n",
       "       [   0.,    0.,    0., ..., 1363., 1321., 1248.],\n",
       "       [   0.,    0.,    0., ..., 1144., 1073., 1037.],\n",
       "       ...,\n",
       "       [ 677.,  661.,  650., ...,  622.,  642.,  627.],\n",
       "       [ 642.,  652.,  650., ...,  646.,  638.,  570.],\n",
       "       [ 608.,  601.,  594., ...,  656.,  606.,  566.]])"
      ]
     },
     "execution_count": 12,
     "metadata": {},
     "output_type": "execute_result"
    }
   ],
   "source": [
    "# read in each band as array and convert to float for calculations\n",
    "red = red_link.ReadAsArray().astype(np.float)\n",
    "nir = nir_link.ReadAsArray().astype(np.float)\n",
    "red"
   ]
  },
  {
   "cell_type": "code",
   "execution_count": null,
   "id": "70ed2ccd",
   "metadata": {},
   "outputs": [],
   "source": [
    "# Call the ndvi() function on red, NIR bands\n",
    "ndvi2 = ndvi(red, nir)\n",
    "\n",
    "# Create output filename based on input name\n",
    "outfile_name = red_file[0].split('_B')[0] + '_NDVI.tif'\n",
    "\n",
    "x_pixels = ndvi2.shape[0] # number of pixels in x\n",
    "y_pixels = ndvi2.shape[1] # number of pixels in y\n",
    "\n",
    "# Set up output GeoTIFF\n",
    "driver = gdal.GetDriverByName('GTiff')\n",
    "\n",
    "# Create driver using output filename, x and y pixels, # of bands, and datatype\n",
    "ndvi_data = driver.Create(outfile_name,x_pixels, y_pixels, 1,gdal.GDT_Float32)\n",
    "\n",
    "# Set NDVI array as the 1 output raster band\n",
    "ndvi_data.GetRasterBand(1).WriteArray(ndvi2)\n",
    "\n",
    "# Setting up the coordinate reference system of the output GeoTIFF\n",
    "geotrans=red_link.GetGeoTransform() # Grab input GeoTranform information\n",
    "proj=red_link.GetProjection() # Grab projection information from input file\n",
    "\n",
    "# now set GeoTransform parameters and projection on the output file\n",
    "ndvi_data.SetGeoTransform(geotrans)\n",
    "ndvi_data.SetProjection(proj)\n",
    "ndvi_data.FlushCache()\n",
    "ndvi_data=None"
   ]
  }
 ],
 "metadata": {
  "kernelspec": {
   "display_name": "Python 3 (ipykernel)",
   "language": "python",
   "name": "python3"
  },
  "language_info": {
   "codemirror_mode": {
    "name": "ipython",
    "version": 3
   },
   "file_extension": ".py",
   "mimetype": "text/x-python",
   "name": "python",
   "nbconvert_exporter": "python",
   "pygments_lexer": "ipython3",
   "version": "3.9.10"
  }
 },
 "nbformat": 4,
 "nbformat_minor": 5
}
